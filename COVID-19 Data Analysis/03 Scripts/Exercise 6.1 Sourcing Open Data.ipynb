{
 "cells": [
  {
   "cell_type": "markdown",
   "id": "55f73037-3d6b-4058-91cc-930ce07c89b6",
   "metadata": {},
   "source": [
    "# Exercise 6.1 Sourcing Open Data"
   ]
  },
  {
   "cell_type": "markdown",
   "id": "9b7ab7fd-3cdb-4b57-91ed-4710b5bc9f28",
   "metadata": {},
   "source": [
    "## 1. Importing Libraries and Set the system path"
   ]
  },
  {
   "cell_type": "code",
   "execution_count": 4,
   "id": "279d282f-b952-4848-aaf2-a3bd4cd9358f",
   "metadata": {},
   "outputs": [],
   "source": [
    "import pandas as pd\n",
    "import numpy as np\n",
    "import os\n",
    "import matplotlib.pyplot as plt\n",
    "import seaborn as sns"
   ]
  },
  {
   "cell_type": "code",
   "execution_count": 5,
   "id": "38a1a0b5-0950-4089-ba88-2d49399a28e2",
   "metadata": {},
   "outputs": [],
   "source": [
    "# Define the path to the data files\n",
    "path = r'C:\\Users\\Stony\\OneDrive\\CareerFoundry\\Data Immersion Course\\Achievement 6\\Covid Analysis'"
   ]
  },
  {
   "cell_type": "markdown",
   "id": "c4196095-7845-4b55-9f5c-8a195ca07a5d",
   "metadata": {},
   "source": [
    "## 2. Import the dataset and initial validation"
   ]
  },
  {
   "cell_type": "code",
   "execution_count": 7,
   "id": "d08f29c1-7c7f-4bf2-b7be-4e68232b2545",
   "metadata": {},
   "outputs": [],
   "source": [
    "# Load the dataset on COVID-19 deaths and contributing conditions as \"df_covid\"\n",
    "df_covid = pd.read_csv(os.path.join(path, '02 Data', 'Original Data', 'Conditions_Contributing_to_COVID-19_Deaths.csv'))"
   ]
  },
  {
   "cell_type": "code",
   "execution_count": 8,
   "id": "de5687a6-ee94-4909-8ccc-f82f5a0d26c4",
   "metadata": {},
   "outputs": [
    {
     "name": "stdout",
     "output_type": "stream",
     "text": [
      "   Data As Of  Start Date    End Date     Group  Year  Month          State  \\\n",
      "0  09/24/2023  01/01/2020  09/23/2023  By Total   NaN    NaN  United States   \n",
      "1  09/24/2023  01/01/2020  09/23/2023  By Total   NaN    NaN  United States   \n",
      "2  09/24/2023  01/01/2020  09/23/2023  By Total   NaN    NaN  United States   \n",
      "3  09/24/2023  01/01/2020  09/23/2023  By Total   NaN    NaN  United States   \n",
      "4  09/24/2023  01/01/2020  09/23/2023  By Total   NaN    NaN  United States   \n",
      "\n",
      "        Condition Group                Condition ICD10_codes Age Group  \\\n",
      "0  Respiratory diseases  Influenza and pneumonia     J09-J18      0-24   \n",
      "1  Respiratory diseases  Influenza and pneumonia     J09-J18     25-34   \n",
      "2  Respiratory diseases  Influenza and pneumonia     J09-J18     35-44   \n",
      "3  Respiratory diseases  Influenza and pneumonia     J09-J18     45-54   \n",
      "4  Respiratory diseases  Influenza and pneumonia     J09-J18     55-64   \n",
      "\n",
      "   COVID-19 Deaths  Number of Mentions Flag  \n",
      "0           1569.0              1647.0  NaN  \n",
      "1           5804.0              6029.0  NaN  \n",
      "2          15080.0             15699.0  NaN  \n",
      "3          37414.0             38878.0  NaN  \n",
      "4          82668.0             85708.0  NaN  \n",
      "<class 'pandas.core.frame.DataFrame'>\n",
      "RangeIndex: 621000 entries, 0 to 620999\n",
      "Data columns (total 14 columns):\n",
      " #   Column              Non-Null Count   Dtype  \n",
      "---  ------              --------------   -----  \n",
      " 0   Data As Of          621000 non-null  object \n",
      " 1   Start Date          621000 non-null  object \n",
      " 2   End Date            621000 non-null  object \n",
      " 3   Group               621000 non-null  object \n",
      " 4   Year                608580 non-null  float64\n",
      " 5   Month               558900 non-null  float64\n",
      " 6   State               621000 non-null  object \n",
      " 7   Condition Group     621000 non-null  object \n",
      " 8   Condition           621000 non-null  object \n",
      " 9   ICD10_codes         621000 non-null  object \n",
      " 10  Age Group           621000 non-null  object \n",
      " 11  COVID-19 Deaths     437551 non-null  float64\n",
      " 12  Number of Mentions  443423 non-null  float64\n",
      " 13  Flag                183449 non-null  object \n",
      "dtypes: float64(4), object(10)\n",
      "memory usage: 66.3+ MB\n",
      "None\n"
     ]
    },
    {
     "data": {
      "text/plain": [
       "(621000, 14)"
      ]
     },
     "execution_count": 8,
     "metadata": {},
     "output_type": "execute_result"
    }
   ],
   "source": [
    "# Validate the dataset loaded properly\n",
    "print(df_covid.head())\n",
    "print(df_covid.info())\n",
    "df_covid.shape"
   ]
  },
  {
   "cell_type": "markdown",
   "id": "f5f2584d-6464-453f-88ca-f86c9e3987b8",
   "metadata": {},
   "source": [
    "## 3. Initial data exploration"
   ]
  },
  {
   "cell_type": "code",
   "execution_count": 10,
   "id": "8c45704b-5133-4ff4-9754-4fe0c2782bef",
   "metadata": {},
   "outputs": [
    {
     "data": {
      "text/html": [
       "<div>\n",
       "<style scoped>\n",
       "    .dataframe tbody tr th:only-of-type {\n",
       "        vertical-align: middle;\n",
       "    }\n",
       "\n",
       "    .dataframe tbody tr th {\n",
       "        vertical-align: top;\n",
       "    }\n",
       "\n",
       "    .dataframe thead th {\n",
       "        text-align: right;\n",
       "    }\n",
       "</style>\n",
       "<table border=\"1\" class=\"dataframe\">\n",
       "  <thead>\n",
       "    <tr style=\"text-align: right;\">\n",
       "      <th></th>\n",
       "      <th>Year</th>\n",
       "      <th>Month</th>\n",
       "      <th>COVID-19 Deaths</th>\n",
       "      <th>Number of Mentions</th>\n",
       "    </tr>\n",
       "  </thead>\n",
       "  <tbody>\n",
       "    <tr>\n",
       "      <th>count</th>\n",
       "      <td>608580.000000</td>\n",
       "      <td>558900.000000</td>\n",
       "      <td>4.375510e+05</td>\n",
       "      <td>4.434230e+05</td>\n",
       "    </tr>\n",
       "    <tr>\n",
       "      <th>mean</th>\n",
       "      <td>2021.408163</td>\n",
       "      <td>6.200000</td>\n",
       "      <td>1.201179e+02</td>\n",
       "      <td>1.293348e+02</td>\n",
       "    </tr>\n",
       "    <tr>\n",
       "      <th>std</th>\n",
       "      <td>1.086436</td>\n",
       "      <td>3.350625</td>\n",
       "      <td>2.980201e+03</td>\n",
       "      <td>3.203936e+03</td>\n",
       "    </tr>\n",
       "    <tr>\n",
       "      <th>min</th>\n",
       "      <td>2020.000000</td>\n",
       "      <td>1.000000</td>\n",
       "      <td>0.000000e+00</td>\n",
       "      <td>0.000000e+00</td>\n",
       "    </tr>\n",
       "    <tr>\n",
       "      <th>25%</th>\n",
       "      <td>2020.000000</td>\n",
       "      <td>3.000000</td>\n",
       "      <td>0.000000e+00</td>\n",
       "      <td>0.000000e+00</td>\n",
       "    </tr>\n",
       "    <tr>\n",
       "      <th>50%</th>\n",
       "      <td>2021.000000</td>\n",
       "      <td>6.000000</td>\n",
       "      <td>0.000000e+00</td>\n",
       "      <td>0.000000e+00</td>\n",
       "    </tr>\n",
       "    <tr>\n",
       "      <th>75%</th>\n",
       "      <td>2022.000000</td>\n",
       "      <td>9.000000</td>\n",
       "      <td>1.800000e+01</td>\n",
       "      <td>1.900000e+01</td>\n",
       "    </tr>\n",
       "    <tr>\n",
       "      <th>max</th>\n",
       "      <td>2023.000000</td>\n",
       "      <td>12.000000</td>\n",
       "      <td>1.146242e+06</td>\n",
       "      <td>1.146242e+06</td>\n",
       "    </tr>\n",
       "  </tbody>\n",
       "</table>\n",
       "</div>"
      ],
      "text/plain": [
       "                Year          Month  COVID-19 Deaths  Number of Mentions\n",
       "count  608580.000000  558900.000000     4.375510e+05        4.434230e+05\n",
       "mean     2021.408163       6.200000     1.201179e+02        1.293348e+02\n",
       "std         1.086436       3.350625     2.980201e+03        3.203936e+03\n",
       "min      2020.000000       1.000000     0.000000e+00        0.000000e+00\n",
       "25%      2020.000000       3.000000     0.000000e+00        0.000000e+00\n",
       "50%      2021.000000       6.000000     0.000000e+00        0.000000e+00\n",
       "75%      2022.000000       9.000000     1.800000e+01        1.900000e+01\n",
       "max      2023.000000      12.000000     1.146242e+06        1.146242e+06"
      ]
     },
     "execution_count": 10,
     "metadata": {},
     "output_type": "execute_result"
    }
   ],
   "source": [
    "# Validate the basic statistics of the dataframe\n",
    "df_covid.describe()"
   ]
  },
  {
   "cell_type": "markdown",
   "id": "3bfb5940-e532-4337-a554-594936d08bc1",
   "metadata": {},
   "source": [
    "As expected, data in the Year column ranges from 2020 through 2023 while data in the Month column ranges from January (1) through December (12)"
   ]
  },
  {
   "cell_type": "markdown",
   "id": "124ef95f-af85-474c-bed7-df8a023cc073",
   "metadata": {},
   "source": [
    "There is a large amount of variability in Covid-19 Deaths and Number of Mentions with each column having large maximum numbers and a large number of zeroes as seen by the median value being (0)."
   ]
  },
  {
   "cell_type": "code",
   "execution_count": 13,
   "id": "546535c0-0719-4360-9cef-9856d915e6ef",
   "metadata": {},
   "outputs": [
    {
     "data": {
      "image/png": "[encoded data removed]",
      "text/plain": [
       "<Figure size 1500x1500 with 12 Axes>"
      ]
     },
     "metadata": {},
     "output_type": "display_data"
    }
   ],
   "source": [
    "# Create histograms to visualize the data\n",
    "df_covid.hist(bins=15, figsize=(15, 15), layout=(4, 3))\n",
    "plt.tight_layout()\n",
    "plt.show()"
   ]
  },
  {
   "cell_type": "code",
   "execution_count": 14,
   "id": "fb1e686e-4464-4409-b5ba-0ef8e6efec84",
   "metadata": {},
   "outputs": [
    {
     "data": {
      "image/png": "[encoded data removed]",
      "text/plain": [
       "<Figure size 640x480 with 1 Axes>"
      ]
     },
     "metadata": {},
     "output_type": "display_data"
    },
    {
     "data": {
      "image/png": "[encoded data removed]",
      "text/plain": [
       "<Figure size 640x480 with 1 Axes>"
      ]
     },
     "metadata": {},
     "output_type": "display_data"
    },
    {
     "data": {
      "image/png": "[encoded data removed]",
      "text/plain": [
       "<Figure size 640x480 with 1 Axes>"
      ]
     },
     "metadata": {},
     "output_type": "display_data"
    },
    {
     "data": {
      "image/png": "[encoded data removed]",
      "text/plain": [
       "<Figure size 640x480 with 1 Axes>"
      ]
     },
     "metadata": {},
     "output_type": "display_data"
    }
   ],
   "source": [
    "# Creating box plots for further visualization of the data:\n",
    "plt.boxplot(df_covid['Year'].dropna())\n",
    "plt.title('Year')\n",
    "plt.show()\n",
    "\n",
    "plt.boxplot(df_covid['Month'].dropna())\n",
    "plt.title('Month')\n",
    "plt.show()\n",
    "\n",
    "plt.boxplot(df_covid['COVID-19 Deaths'].dropna())\n",
    "plt.title('COVID-19 Deaths')\n",
    "plt.show()\n",
    "\n",
    "plt.boxplot(df_covid['Number of Mentions'].dropna())\n",
    "plt.title('Number of Mentions')\n",
    "plt.show()"
   ]
  },
  {
   "cell_type": "markdown",
   "id": "a091979f-3a06-4202-b503-035b7d39248d",
   "metadata": {},
   "source": [
    "Both Covid-19 deaths and Number of Mentions are highly right-skewed with large numbers of outliers. The rest of the data appears as expected."
   ]
  },
  {
   "cell_type": "code",
   "execution_count": 16,
   "id": "b003d241-9c70-4695-9c44-0d5545ac73d6",
   "metadata": {},
   "outputs": [
    {
     "name": "stdout",
     "output_type": "stream",
     "text": [
      "State\n",
      "United States           11500\n",
      "Pennsylvania            11500\n",
      "Nevada                  11500\n",
      "New Hampshire           11500\n",
      "New Jersey              11500\n",
      "New Mexico              11500\n",
      "New York                11500\n",
      "New York City           11500\n",
      "North Carolina          11500\n",
      "North Dakota            11500\n",
      "Ohio                    11500\n",
      "Oklahoma                11500\n",
      "Oregon                  11500\n",
      "Rhode Island            11500\n",
      "Alabama                 11500\n",
      "South Carolina          11500\n",
      "South Dakota            11500\n",
      "Tennessee               11500\n",
      "Texas                   11500\n",
      "Utah                    11500\n",
      "Vermont                 11500\n",
      "Virginia                11500\n",
      "Washington              11500\n",
      "West Virginia           11500\n",
      "Wisconsin               11500\n",
      "Wyoming                 11500\n",
      "Nebraska                11500\n",
      "Montana                 11500\n",
      "Missouri                11500\n",
      "Mississippi             11500\n",
      "Alaska                  11500\n",
      "Arizona                 11500\n",
      "Arkansas                11500\n",
      "California              11500\n",
      "Colorado                11500\n",
      "Connecticut             11500\n",
      "Delaware                11500\n",
      "District of Columbia    11500\n",
      "Florida                 11500\n",
      "Georgia                 11500\n",
      "Hawaii                  11500\n",
      "Idaho                   11500\n",
      "Illinois                11500\n",
      "Indiana                 11500\n",
      "Iowa                    11500\n",
      "Kansas                  11500\n",
      "Kentucky                11500\n",
      "Louisiana               11500\n",
      "Maine                   11500\n",
      "Maryland                11500\n",
      "Massachusetts           11500\n",
      "Michigan                11500\n",
      "Minnesota               11500\n",
      "Puerto Rico             11500\n",
      "Name: count, dtype: int64\n"
     ]
    }
   ],
   "source": [
    "# Frequency count for State column\n",
    "print(df_covid['State'].value_counts(dropna=False))"
   ]
  },
  {
   "cell_type": "code",
   "execution_count": 17,
   "id": "f04b388e-3b75-436c-a06c-223a1fa9806a",
   "metadata": {},
   "outputs": [
    {
     "name": "stdout",
     "output_type": "stream",
     "text": [
      "Condition Group\n",
      "Circulatory diseases                                                         189000\n",
      "Respiratory diseases                                                         162000\n",
      "Sepsis                                                                        27000\n",
      "Malignant neoplasms                                                           27000\n",
      "Diabetes                                                                      27000\n",
      "Obesity                                                                       27000\n",
      "Alzheimer disease                                                             27000\n",
      "Vascular and unspecified dementia                                             27000\n",
      "Renal failure                                                                 27000\n",
      "Intentional and unintentional injury, poisoning, and other adverse events     27000\n",
      "All other conditions and causes (residual)                                    27000\n",
      "COVID-19                                                                      27000\n",
      "Name: count, dtype: int64\n"
     ]
    }
   ],
   "source": [
    "# Frequency count for Condition Group column\n",
    "print(df_covid['Condition Group'].value_counts(dropna=False))"
   ]
  },
  {
   "cell_type": "code",
   "execution_count": 18,
   "id": "e9842e0d-45f6-41b2-9c85-3eb711993083",
   "metadata": {},
   "outputs": [
    {
     "name": "stdout",
     "output_type": "stream",
     "text": [
      "Condition\n",
      "Influenza and pneumonia                                                      27000\n",
      "Other diseases of the circulatory system                                     27000\n",
      "All other conditions and causes (residual)                                   27000\n",
      "Intentional and unintentional injury, poisoning, and other adverse events    27000\n",
      "Renal failure                                                                27000\n",
      "Vascular and unspecified dementia                                            27000\n",
      "Alzheimer disease                                                            27000\n",
      "Obesity                                                                      27000\n",
      "Diabetes                                                                     27000\n",
      "Malignant neoplasms                                                          27000\n",
      "Sepsis                                                                       27000\n",
      "Cerebrovascular diseases                                                     27000\n",
      "Chronic lower respiratory diseases                                           27000\n",
      "Heart failure                                                                27000\n",
      "Cardiac arrhythmia                                                           27000\n",
      "Cardiac arrest                                                               27000\n",
      "Ischemic heart disease                                                       27000\n",
      "Hypertensive diseases                                                        27000\n",
      "Other diseases of the respiratory system                                     27000\n",
      "Respiratory arrest                                                           27000\n",
      "Respiratory failure                                                          27000\n",
      "Adult respiratory distress syndrome                                          27000\n",
      "COVID-19                                                                     27000\n",
      "Name: count, dtype: int64\n"
     ]
    }
   ],
   "source": [
    "# Frequency count for Condition column\n",
    "print(df_covid['Condition'].value_counts(dropna=False))"
   ]
  },
  {
   "cell_type": "code",
   "execution_count": 19,
   "id": "f7536188-283a-482e-82cf-26f1828fa083",
   "metadata": {},
   "outputs": [
    {
     "name": "stdout",
     "output_type": "stream",
     "text": [
      "ICD10_codes\n",
      "J09-J18                                                                                                                                                                                 27000\n",
      "I00-I09, I26-I43, I51, I52, I70-I99                                                                                                                                                     27000\n",
      "A00-A39, A42-B99, D00-E07, E15-E64, E70-E90, F00, F02, F04-G26, G31-H95, K00-K93, L00-M99, N00-N16, N20-N98, O00-O99, P00-P96, Q00-Q99, R00-R08, R09.0, R09.1, R09.3, R09.8, R10-R99    27000\n",
      "S00-T98, V01-X59, X60-X84, X85-Y09, Y10-Y36, Y40-Y89, U01-U03                                                                                                                           27000\n",
      "N17-N19                                                                                                                                                                                 27000\n",
      "F01, F03                                                                                                                                                                                27000\n",
      "G30                                                                                                                                                                                     27000\n",
      "E65-E68                                                                                                                                                                                 27000\n",
      "E10-E14                                                                                                                                                                                 27000\n",
      "C00-C97                                                                                                                                                                                 27000\n",
      "A40-A41                                                                                                                                                                                 27000\n",
      "I60-I69                                                                                                                                                                                 27000\n",
      "J40-J47                                                                                                                                                                                 27000\n",
      "I50                                                                                                                                                                                     27000\n",
      "I44, I45, I47-I49                                                                                                                                                                       27000\n",
      "I46                                                                                                                                                                                     27000\n",
      "I20-I25                                                                                                                                                                                 27000\n",
      "I10-I15                                                                                                                                                                                 27000\n",
      "J00-J06, J20-J39, J60-J70, J81-J86, J90-J95, J97-J99, U04                                                                                                                               27000\n",
      "R09.2                                                                                                                                                                                   27000\n",
      "J96                                                                                                                                                                                     27000\n",
      "J80                                                                                                                                                                                     27000\n",
      "U071                                                                                                                                                                                    27000\n",
      "Name: count, dtype: int64\n"
     ]
    }
   ],
   "source": [
    "# Frequency count for ICD-10 Codes Group column\n",
    "print(df_covid['ICD10_codes'].value_counts(dropna=False))"
   ]
  },
  {
   "cell_type": "code",
   "execution_count": 20,
   "id": "a77fbbb8-1321-497b-a7c0-a551e61bc00d",
   "metadata": {},
   "outputs": [
    {
     "name": "stdout",
     "output_type": "stream",
     "text": [
      "Age Group\n",
      "0-24          62100\n",
      "25-34         62100\n",
      "35-44         62100\n",
      "45-54         62100\n",
      "55-64         62100\n",
      "65-74         62100\n",
      "75-84         62100\n",
      "85+           62100\n",
      "Not stated    62100\n",
      "All Ages      62100\n",
      "Name: count, dtype: int64\n"
     ]
    }
   ],
   "source": [
    "# Frequency count for Age Group column\n",
    "print(df_covid['Age Group'].value_counts(dropna=False))"
   ]
  },
  {
   "cell_type": "code",
   "execution_count": 21,
   "id": "e92db848-f781-4e1d-b760-ab196002b94f",
   "metadata": {},
   "outputs": [
    {
     "name": "stdout",
     "output_type": "stream",
     "text": [
      "Flag\n",
      "NaN                                                                                                                           437551\n",
      "One or more data cells have counts between 1-9 and have been suppressed in accordance with NCHS confidentiality standards.    183449\n",
      "Name: count, dtype: int64\n"
     ]
    }
   ],
   "source": [
    "# Frequency count for Flag column\n",
    "print(df_covid['Flag'].value_counts(dropna=False))"
   ]
  },
  {
   "cell_type": "markdown",
   "id": "62847735-9b8e-4d10-8bcd-2c80248c46bc",
   "metadata": {},
   "source": [
    "It appears that the distribution of records is consistent between the states, conditions, condition groups, age groups, and ICD codes. The flag column contains mostly missing values, which will work for our analysis since that means there is a minimum amount of data being suppressed."
   ]
  },
  {
   "cell_type": "markdown",
   "id": "2cd66f0a-a6d1-4012-8dc1-6d45ec74bb46",
   "metadata": {},
   "source": [
    "## 4. Check for missing values"
   ]
  },
  {
   "cell_type": "code",
   "execution_count": 24,
   "id": "70f673f5-cf3c-4d0b-9350-e4474444bd7b",
   "metadata": {},
   "outputs": [
    {
     "data": {
      "text/plain": [
       "Data As Of                 0\n",
       "Start Date                 0\n",
       "End Date                   0\n",
       "Group                      0\n",
       "Year                   12420\n",
       "Month                  62100\n",
       "State                      0\n",
       "Condition Group            0\n",
       "Condition                  0\n",
       "ICD10_codes                0\n",
       "Age Group                  0\n",
       "COVID-19 Deaths       183449\n",
       "Number of Mentions    177577\n",
       "Flag                  437551\n",
       "dtype: int64"
      ]
     },
     "execution_count": 24,
     "metadata": {},
     "output_type": "execute_result"
    }
   ],
   "source": [
    "# Check the dataset for missing values\n",
    "df_covid.isnull().sum()"
   ]
  },
  {
   "cell_type": "markdown",
   "id": "7d75e22c-1fe4-4369-adf8-30bafdcdf2fc",
   "metadata": {},
   "source": [
    "Examining the dataset in Excel, the rows with missing Year values are all part of the Group By Total, which would make sense since that Group is an aggregation of data. The missing values in the Month column are also due to the Group column grouping By Total or By Year which indicates again that the data is being aggregated in those groups."
   ]
  },
  {
   "cell_type": "markdown",
   "id": "8904f406-b1a3-4fb9-94ad-81bce700f2bb",
   "metadata": {},
   "source": [
    "The rows of aggregated data should be removed from the dataset as that will provide a more accurate descriptive statistics of our dataset and will address the missing values in the Month and Year columns"
   ]
  },
  {
   "cell_type": "code",
   "execution_count": 27,
   "id": "9b8072de-f5d3-4cfe-a628-92b37f1c5812",
   "metadata": {},
   "outputs": [],
   "source": [
    "# Split the dataframe into 2, with 1 part containing the Broup By Month and the other containing the Group By Year and Group By Total\n",
    "df_covid_month = df_covid[df_covid['Group'] == 'By Month']\n",
    "df_covid_year_total = df_covid[df_covid['Group'].isin(['By Total', 'By Year'])]"
   ]
  },
  {
   "cell_type": "code",
   "execution_count": 28,
   "id": "3527e057-aad5-4e1e-ab39-b3327da0739e",
   "metadata": {},
   "outputs": [
    {
     "name": "stdout",
     "output_type": "stream",
     "text": [
      "<class 'pandas.core.frame.DataFrame'>\n",
      "Index: 558900 entries, 62100 to 620999\n",
      "Data columns (total 14 columns):\n",
      " #   Column              Non-Null Count   Dtype  \n",
      "---  ------              --------------   -----  \n",
      " 0   Data As Of          558900 non-null  object \n",
      " 1   Start Date          558900 non-null  object \n",
      " 2   End Date            558900 non-null  object \n",
      " 3   Group               558900 non-null  object \n",
      " 4   Year                558900 non-null  float64\n",
      " 5   Month               558900 non-null  float64\n",
      " 6   State               558900 non-null  object \n",
      " 7   Condition Group     558900 non-null  object \n",
      " 8   Condition           558900 non-null  object \n",
      " 9   ICD10_codes         558900 non-null  object \n",
      " 10  Age Group           558900 non-null  object \n",
      " 11  COVID-19 Deaths     388500 non-null  float64\n",
      " 12  Number of Mentions  393720 non-null  float64\n",
      " 13  Flag                170400 non-null  object \n",
      "dtypes: float64(4), object(10)\n",
      "memory usage: 64.0+ MB\n"
     ]
    }
   ],
   "source": [
    "# Validate the dataframe was seperated successfully\n",
    "df_covid_month.info()"
   ]
  },
  {
   "cell_type": "code",
   "execution_count": 29,
   "id": "198093fa-3d2a-4c5d-9fa5-bb0bc70ea261",
   "metadata": {},
   "outputs": [
    {
     "name": "stdout",
     "output_type": "stream",
     "text": [
      "<class 'pandas.core.frame.DataFrame'>\n",
      "Index: 62100 entries, 0 to 62099\n",
      "Data columns (total 14 columns):\n",
      " #   Column              Non-Null Count  Dtype  \n",
      "---  ------              --------------  -----  \n",
      " 0   Data As Of          62100 non-null  object \n",
      " 1   Start Date          62100 non-null  object \n",
      " 2   End Date            62100 non-null  object \n",
      " 3   Group               62100 non-null  object \n",
      " 4   Year                49680 non-null  float64\n",
      " 5   Month               0 non-null      float64\n",
      " 6   State               62100 non-null  object \n",
      " 7   Condition Group     62100 non-null  object \n",
      " 8   Condition           62100 non-null  object \n",
      " 9   ICD10_codes         62100 non-null  object \n",
      " 10  Age Group           62100 non-null  object \n",
      " 11  COVID-19 Deaths     49051 non-null  float64\n",
      " 12  Number of Mentions  49703 non-null  float64\n",
      " 13  Flag                13049 non-null  object \n",
      "dtypes: float64(4), object(10)\n",
      "memory usage: 7.1+ MB\n"
     ]
    }
   ],
   "source": [
    "df_covid_year_total.info()"
   ]
  },
  {
   "cell_type": "code",
   "execution_count": 30,
   "id": "93c41194-9c64-4fd6-8381-9de7133cf226",
   "metadata": {},
   "outputs": [
    {
     "data": {
      "text/plain": [
       "621000"
      ]
     },
     "execution_count": 30,
     "metadata": {},
     "output_type": "execute_result"
    }
   ],
   "source": [
    "# Validate number of rows in the original dataframeare present in the two\n",
    "len(df_covid)"
   ]
  },
  {
   "cell_type": "code",
   "execution_count": 31,
   "id": "d8e2cf71-a389-422c-8501-5ca929557c07",
   "metadata": {},
   "outputs": [
    {
     "data": {
      "text/plain": [
       "621000"
      ]
     },
     "execution_count": 31,
     "metadata": {},
     "output_type": "execute_result"
    }
   ],
   "source": [
    "# Validate all rows from the original dataframe are present in the two\n",
    "len(df_covid_month) + len(df_covid_year_total)"
   ]
  },
  {
   "cell_type": "code",
   "execution_count": 32,
   "id": "68d7be7d-cb07-4b69-8aee-cb2f9f26d0eb",
   "metadata": {},
   "outputs": [
    {
     "data": {
      "text/plain": [
       "Data As Of                 0\n",
       "Start Date                 0\n",
       "End Date                   0\n",
       "Group                      0\n",
       "Year                       0\n",
       "Month                      0\n",
       "State                      0\n",
       "Condition Group            0\n",
       "Condition                  0\n",
       "ICD10_codes                0\n",
       "Age Group                  0\n",
       "COVID-19 Deaths       170400\n",
       "Number of Mentions    165180\n",
       "Flag                  388500\n",
       "dtype: int64"
      ]
     },
     "execution_count": 32,
     "metadata": {},
     "output_type": "execute_result"
    }
   ],
   "source": [
    "# Recheck the number of missing values in the split dataframe df_covid_month\n",
    "df_covid_month.isnull().sum()"
   ]
  },
  {
   "cell_type": "markdown",
   "id": "29384c7f-a6b4-42a9-9906-9efa81b76991",
   "metadata": {},
   "source": [
    "The missing values in Covid-19 deaths and Number of Mentions all have an entry in the flag column with a flag value stating that one of more data cells have counts between 1 and 9 and have been suppressed according to NCHS confidentiality standards. It would make sense to imput a random number between 1 and 9 into those fields with the flag present."
   ]
  },
  {
   "cell_type": "code",
   "execution_count": 34,
   "id": "c5ac5fe3-4add-4a9c-9fa4-0f961255eda4",
   "metadata": {},
   "outputs": [],
   "source": [
    "# Define a function to create a random number between 1 and 9\n",
    "def randomnum(series):\n",
    "    return series.apply(lambda x: np.random.randint(1, 10) if pd.isnull(x) else x)"
   ]
  },
  {
   "cell_type": "code",
   "execution_count": 35,
   "id": "31082d4f-dac5-4a77-9015-f809d5aa43ae",
   "metadata": {},
   "outputs": [],
   "source": [
    "# Identify the rows with the flag suppressing the values\n",
    "message = \"One or more data cells have counts between 1-9 and have been suppressed in accordance with NCHS confidentiality standards.\"\n",
    "suppressed_rows = df_covid_month[df_covid_month['Flag'] == message]"
   ]
  },
  {
   "cell_type": "code",
   "execution_count": 36,
   "id": "202f6c66-435c-46db-9ced-9da731ad30da",
   "metadata": {},
   "outputs": [],
   "source": [
    "# Impute the missing values in the Covid-19 deaths and Number of Mention columns\n",
    "df_covid_month.loc[suppressed_rows.index, 'COVID-19 Deaths'] = randomnum(suppressed_rows['COVID-19 Deaths'])\n",
    "df_covid_month.loc[suppressed_rows.index, 'Number of Mentions'] = randomnum(suppressed_rows['Number of Mentions'])"
   ]
  },
  {
   "cell_type": "code",
   "execution_count": 37,
   "id": "0da0ca3f-8da1-43ca-ae63-5ef20e57a77d",
   "metadata": {},
   "outputs": [
    {
     "data": {
      "text/html": [
       "<div>\n",
       "<style scoped>\n",
       "    .dataframe tbody tr th:only-of-type {\n",
       "        vertical-align: middle;\n",
       "    }\n",
       "\n",
       "    .dataframe tbody tr th {\n",
       "        vertical-align: top;\n",
       "    }\n",
       "\n",
       "    .dataframe thead th {\n",
       "        text-align: right;\n",
       "    }\n",
       "</style>\n",
       "<table border=\"1\" class=\"dataframe\">\n",
       "  <thead>\n",
       "    <tr style=\"text-align: right;\">\n",
       "      <th></th>\n",
       "      <th>Year</th>\n",
       "      <th>Month</th>\n",
       "      <th>COVID-19 Deaths</th>\n",
       "      <th>Number of Mentions</th>\n",
       "    </tr>\n",
       "  </thead>\n",
       "  <tbody>\n",
       "    <tr>\n",
       "      <th>count</th>\n",
       "      <td>558900.000000</td>\n",
       "      <td>558900.000000</td>\n",
       "      <td>558900.000000</td>\n",
       "      <td>558900.000000</td>\n",
       "    </tr>\n",
       "    <tr>\n",
       "      <th>mean</th>\n",
       "      <td>2021.400000</td>\n",
       "      <td>6.200000</td>\n",
       "      <td>32.244133</td>\n",
       "      <td>35.055507</td>\n",
       "    </tr>\n",
       "    <tr>\n",
       "      <th>std</th>\n",
       "      <td>1.083206</td>\n",
       "      <td>3.350625</td>\n",
       "      <td>483.282273</td>\n",
       "      <td>518.791443</td>\n",
       "    </tr>\n",
       "    <tr>\n",
       "      <th>min</th>\n",
       "      <td>2020.000000</td>\n",
       "      <td>1.000000</td>\n",
       "      <td>0.000000</td>\n",
       "      <td>0.000000</td>\n",
       "    </tr>\n",
       "    <tr>\n",
       "      <th>25%</th>\n",
       "      <td>2020.000000</td>\n",
       "      <td>3.000000</td>\n",
       "      <td>0.000000</td>\n",
       "      <td>0.000000</td>\n",
       "    </tr>\n",
       "    <tr>\n",
       "      <th>50%</th>\n",
       "      <td>2021.000000</td>\n",
       "      <td>6.000000</td>\n",
       "      <td>1.000000</td>\n",
       "      <td>1.000000</td>\n",
       "    </tr>\n",
       "    <tr>\n",
       "      <th>75%</th>\n",
       "      <td>2022.000000</td>\n",
       "      <td>9.000000</td>\n",
       "      <td>8.000000</td>\n",
       "      <td>8.000000</td>\n",
       "    </tr>\n",
       "    <tr>\n",
       "      <th>max</th>\n",
       "      <td>2023.000000</td>\n",
       "      <td>12.000000</td>\n",
       "      <td>105566.000000</td>\n",
       "      <td>105566.000000</td>\n",
       "    </tr>\n",
       "  </tbody>\n",
       "</table>\n",
       "</div>"
      ],
      "text/plain": [
       "                Year          Month  COVID-19 Deaths  Number of Mentions\n",
       "count  558900.000000  558900.000000    558900.000000       558900.000000\n",
       "mean     2021.400000       6.200000        32.244133           35.055507\n",
       "std         1.083206       3.350625       483.282273          518.791443\n",
       "min      2020.000000       1.000000         0.000000            0.000000\n",
       "25%      2020.000000       3.000000         0.000000            0.000000\n",
       "50%      2021.000000       6.000000         1.000000            1.000000\n",
       "75%      2022.000000       9.000000         8.000000            8.000000\n",
       "max      2023.000000      12.000000    105566.000000       105566.000000"
      ]
     },
     "execution_count": 37,
     "metadata": {},
     "output_type": "execute_result"
    }
   ],
   "source": [
    "# Verify data was imputed successfully\n",
    "df_covid_month.describe()"
   ]
  },
  {
   "cell_type": "code",
   "execution_count": 38,
   "id": "0e01f8a9-1a94-4776-9f1e-b80fc2062e0b",
   "metadata": {},
   "outputs": [
    {
     "name": "stdout",
     "output_type": "stream",
     "text": [
      "COVID-19 Deaths\n",
      "0.0         275134\n",
      "1.0          19391\n",
      "2.0          18878\n",
      "3.0          18947\n",
      "4.0          19010\n",
      "             ...  \n",
      "63446.0          1\n",
      "65477.0          1\n",
      "83984.0          1\n",
      "98080.0          1\n",
      "105566.0         1\n",
      "Name: count, Length: 2726, dtype: int64\n"
     ]
    }
   ],
   "source": [
    "# Verify value counts of Covid-19 Deaths\n",
    "print(df_covid_month['COVID-19 Deaths'].value_counts().sort_index())"
   ]
  },
  {
   "cell_type": "code",
   "execution_count": 39,
   "id": "a53dc365-524c-4f46-9010-c816f752fc17",
   "metadata": {},
   "outputs": [
    {
     "name": "stdout",
     "output_type": "stream",
     "text": [
      "Number of Mentions\n",
      "0.0         275134\n",
      "1.0          18586\n",
      "2.0          18400\n",
      "3.0          18406\n",
      "4.0          18552\n",
      "             ...  \n",
      "65364.0          1\n",
      "65477.0          1\n",
      "83984.0          1\n",
      "98080.0          1\n",
      "105566.0         1\n",
      "Name: count, Length: 2875, dtype: int64\n"
     ]
    }
   ],
   "source": [
    "# Verify value counts of Number of Mentions\n",
    "print(df_covid_month['Number of Mentions'].value_counts().sort_index())"
   ]
  },
  {
   "cell_type": "code",
   "execution_count": 40,
   "id": "12450f55-8249-4c73-997d-965720421e49",
   "metadata": {},
   "outputs": [
    {
     "data": {
      "text/plain": [
       "Data As Of                 0\n",
       "Start Date                 0\n",
       "End Date                   0\n",
       "Group                      0\n",
       "Year                       0\n",
       "Month                      0\n",
       "State                      0\n",
       "Condition Group            0\n",
       "Condition                  0\n",
       "ICD10_codes                0\n",
       "Age Group                  0\n",
       "COVID-19 Deaths            0\n",
       "Number of Mentions         0\n",
       "Flag                  388500\n",
       "dtype: int64"
      ]
     },
     "execution_count": 40,
     "metadata": {},
     "output_type": "execute_result"
    }
   ],
   "source": [
    "# Recheck for missing values in the dataframe\n",
    "df_covid_month.isnull().sum()"
   ]
  },
  {
   "cell_type": "markdown",
   "id": "f2481e27-b08d-4d4e-b578-974d87bf1e07",
   "metadata": {},
   "source": [
    "There are no other missing values except in the Flag column, which is expected."
   ]
  },
  {
   "cell_type": "markdown",
   "id": "7035a332-a39a-4ba7-96f1-022175101987",
   "metadata": {},
   "source": [
    "## 5. Duplicate and mixed-type checking"
   ]
  },
  {
   "cell_type": "code",
   "execution_count": 43,
   "id": "c66e9da0-0984-4361-965b-587d0e2a5baf",
   "metadata": {},
   "outputs": [
    {
     "data": {
      "text/plain": [
       "0"
      ]
     },
     "execution_count": 43,
     "metadata": {},
     "output_type": "execute_result"
    }
   ],
   "source": [
    "# Check for duplicate rows in the dataset\n",
    "df_covid_month.duplicated().sum()"
   ]
  },
  {
   "cell_type": "code",
   "execution_count": 44,
   "id": "14246509-1dd7-4f2e-ab67-146f1b5ae63e",
   "metadata": {},
   "outputs": [
    {
     "name": "stdout",
     "output_type": "stream",
     "text": [
      "No mixed-type data in column: Data As Of\n",
      "No mixed-type data in column: Start Date\n",
      "No mixed-type data in column: End Date\n",
      "No mixed-type data in column: Group\n",
      "No mixed-type data in column: Year\n",
      "No mixed-type data in column: Month\n",
      "No mixed-type data in column: State\n",
      "No mixed-type data in column: Condition Group\n",
      "No mixed-type data in column: Condition\n",
      "No mixed-type data in column: ICD10_codes\n",
      "No mixed-type data in column: Age Group\n",
      "No mixed-type data in column: COVID-19 Deaths\n",
      "No mixed-type data in column: Number of Mentions\n",
      "Mixed-type data found in column: Flag\n"
     ]
    }
   ],
   "source": [
    "# Check for any mixed-type columns\n",
    "for col in df_covid_month.columns.tolist():\n",
    "    weird = (df_covid_month[[col]].map(type) != df_covid_month[[col]].iloc[0].apply(type)).any(axis = 1)\n",
    "    if len (df_covid_month[weird]) > 0:\n",
    "        print (f\"Mixed-type data found in column: {col}\")\n",
    "    else: print(f\"No mixed-type data in column: {col}\")"
   ]
  },
  {
   "cell_type": "markdown",
   "id": "c0206acc-fc7e-412d-9b57-d523814a7560",
   "metadata": {},
   "source": [
    "## 6. Determining data types and transforming data"
   ]
  },
  {
   "cell_type": "code",
   "execution_count": 46,
   "id": "f42134e7-4a11-454a-8353-e2817afb0785",
   "metadata": {},
   "outputs": [
    {
     "name": "stdout",
     "output_type": "stream",
     "text": [
      "Data As Of             object\n",
      "Start Date             object\n",
      "End Date               object\n",
      "Group                  object\n",
      "Year                  float64\n",
      "Month                 float64\n",
      "State                  object\n",
      "Condition Group        object\n",
      "Condition              object\n",
      "ICD10_codes            object\n",
      "Age Group              object\n",
      "COVID-19 Deaths       float64\n",
      "Number of Mentions    float64\n",
      "Flag                   object\n",
      "dtype: object\n"
     ]
    }
   ],
   "source": [
    "# Check the data-types of the dataframe\n",
    "print(df_covid_month.dtypes)"
   ]
  },
  {
   "cell_type": "code",
   "execution_count": 47,
   "id": "4da61238-23b7-4a58-8604-fa5444fe70d8",
   "metadata": {},
   "outputs": [
    {
     "name": "stderr",
     "output_type": "stream",
     "text": [
      "C:\\Users\\Stony\\AppData\\Local\\Temp\\ipykernel_8276\\2727874191.py:2: SettingWithCopyWarning: \n",
      "A value is trying to be set on a copy of a slice from a DataFrame.\n",
      "Try using .loc[row_indexer,col_indexer] = value instead\n",
      "\n",
      "See the caveats in the documentation: https://pandas.pydata.org/pandas-docs/stable/user_guide/indexing.html#returning-a-view-versus-a-copy\n",
      "  df_covid_month['Data As Of'] = pd.to_datetime(df_covid_month['Data As Of'])\n",
      "C:\\Users\\Stony\\AppData\\Local\\Temp\\ipykernel_8276\\2727874191.py:3: SettingWithCopyWarning: \n",
      "A value is trying to be set on a copy of a slice from a DataFrame.\n",
      "Try using .loc[row_indexer,col_indexer] = value instead\n",
      "\n",
      "See the caveats in the documentation: https://pandas.pydata.org/pandas-docs/stable/user_guide/indexing.html#returning-a-view-versus-a-copy\n",
      "  df_covid_month['Start Date'] = pd.to_datetime(df_covid_month['Start Date'])\n",
      "C:\\Users\\Stony\\AppData\\Local\\Temp\\ipykernel_8276\\2727874191.py:4: SettingWithCopyWarning: \n",
      "A value is trying to be set on a copy of a slice from a DataFrame.\n",
      "Try using .loc[row_indexer,col_indexer] = value instead\n",
      "\n",
      "See the caveats in the documentation: https://pandas.pydata.org/pandas-docs/stable/user_guide/indexing.html#returning-a-view-versus-a-copy\n",
      "  df_covid_month['End Date'] = pd.to_datetime(df_covid_month['End Date'])\n"
     ]
    }
   ],
   "source": [
    "# Convert date columns from object to datetime format\n",
    "df_covid_month['Data As Of'] = pd.to_datetime(df_covid_month['Data As Of'])\n",
    "df_covid_month['Start Date'] = pd.to_datetime(df_covid_month['Start Date'])\n",
    "df_covid_month['End Date'] = pd.to_datetime(df_covid_month['End Date'])"
   ]
  },
  {
   "cell_type": "code",
   "execution_count": 48,
   "id": "efb500a7-7ec8-48ef-bd20-48901ceb7598",
   "metadata": {},
   "outputs": [
    {
     "name": "stderr",
     "output_type": "stream",
     "text": [
      "C:\\Users\\Stony\\AppData\\Local\\Temp\\ipykernel_8276\\2722304955.py:4: SettingWithCopyWarning: \n",
      "A value is trying to be set on a copy of a slice from a DataFrame.\n",
      "Try using .loc[row_indexer,col_indexer] = value instead\n",
      "\n",
      "See the caveats in the documentation: https://pandas.pydata.org/pandas-docs/stable/user_guide/indexing.html#returning-a-view-versus-a-copy\n",
      "  df_covid_month[column] = df_covid_month[column].astype('category')\n",
      "C:\\Users\\Stony\\AppData\\Local\\Temp\\ipykernel_8276\\2722304955.py:4: SettingWithCopyWarning: \n",
      "A value is trying to be set on a copy of a slice from a DataFrame.\n",
      "Try using .loc[row_indexer,col_indexer] = value instead\n",
      "\n",
      "See the caveats in the documentation: https://pandas.pydata.org/pandas-docs/stable/user_guide/indexing.html#returning-a-view-versus-a-copy\n",
      "  df_covid_month[column] = df_covid_month[column].astype('category')\n",
      "C:\\Users\\Stony\\AppData\\Local\\Temp\\ipykernel_8276\\2722304955.py:4: SettingWithCopyWarning: \n",
      "A value is trying to be set on a copy of a slice from a DataFrame.\n",
      "Try using .loc[row_indexer,col_indexer] = value instead\n",
      "\n",
      "See the caveats in the documentation: https://pandas.pydata.org/pandas-docs/stable/user_guide/indexing.html#returning-a-view-versus-a-copy\n",
      "  df_covid_month[column] = df_covid_month[column].astype('category')\n",
      "C:\\Users\\Stony\\AppData\\Local\\Temp\\ipykernel_8276\\2722304955.py:4: SettingWithCopyWarning: \n",
      "A value is trying to be set on a copy of a slice from a DataFrame.\n",
      "Try using .loc[row_indexer,col_indexer] = value instead\n",
      "\n",
      "See the caveats in the documentation: https://pandas.pydata.org/pandas-docs/stable/user_guide/indexing.html#returning-a-view-versus-a-copy\n",
      "  df_covid_month[column] = df_covid_month[column].astype('category')\n",
      "C:\\Users\\Stony\\AppData\\Local\\Temp\\ipykernel_8276\\2722304955.py:4: SettingWithCopyWarning: \n",
      "A value is trying to be set on a copy of a slice from a DataFrame.\n",
      "Try using .loc[row_indexer,col_indexer] = value instead\n",
      "\n",
      "See the caveats in the documentation: https://pandas.pydata.org/pandas-docs/stable/user_guide/indexing.html#returning-a-view-versus-a-copy\n",
      "  df_covid_month[column] = df_covid_month[column].astype('category')\n",
      "C:\\Users\\Stony\\AppData\\Local\\Temp\\ipykernel_8276\\2722304955.py:4: SettingWithCopyWarning: \n",
      "A value is trying to be set on a copy of a slice from a DataFrame.\n",
      "Try using .loc[row_indexer,col_indexer] = value instead\n",
      "\n",
      "See the caveats in the documentation: https://pandas.pydata.org/pandas-docs/stable/user_guide/indexing.html#returning-a-view-versus-a-copy\n",
      "  df_covid_month[column] = df_covid_month[column].astype('category')\n"
     ]
    }
   ],
   "source": [
    "# Convert State, Condition Group, COndition, ICD10_Codes, Age Group, and Flag columns to category format to improve memory efficiency\n",
    "categorical_columns = ['State', 'Condition Group', 'Condition', 'ICD10_codes', 'Age Group', 'Flag']\n",
    "for column in categorical_columns:\n",
    "    df_covid_month[column] = df_covid_month[column].astype('category')"
   ]
  },
  {
   "cell_type": "code",
   "execution_count": 49,
   "id": "3aec3292-e4bc-45e2-bb16-7563c84f6924",
   "metadata": {},
   "outputs": [
    {
     "name": "stdout",
     "output_type": "stream",
     "text": [
      "No mixed-type data in column: Data As Of\n",
      "No mixed-type data in column: Start Date\n",
      "No mixed-type data in column: End Date\n",
      "No mixed-type data in column: Group\n",
      "No mixed-type data in column: Year\n",
      "No mixed-type data in column: Month\n",
      "No mixed-type data in column: State\n",
      "No mixed-type data in column: Condition Group\n",
      "No mixed-type data in column: Condition\n",
      "No mixed-type data in column: ICD10_codes\n",
      "No mixed-type data in column: Age Group\n",
      "No mixed-type data in column: COVID-19 Deaths\n",
      "No mixed-type data in column: Number of Mentions\n",
      "Mixed-type data found in column: Flag\n"
     ]
    }
   ],
   "source": [
    "# Recheck for mixed-type data\n",
    "for col in df_covid_month.columns.tolist():\n",
    "    weird = (df_covid_month[[col]].map(type) != df_covid_month[[col]].iloc[0].apply(type)).any(axis = 1)\n",
    "    if len (df_covid_month[weird]) > 0:\n",
    "        print (f\"Mixed-type data found in column: {col}\")\n",
    "    else: print(f\"No mixed-type data in column: {col}\")"
   ]
  },
  {
   "cell_type": "code",
   "execution_count": 50,
   "id": "b3fa1a88-a3c5-43dc-80fa-8099de43d59d",
   "metadata": {},
   "outputs": [
    {
     "name": "stdout",
     "output_type": "stream",
     "text": [
      "Data As Of            datetime64[ns]\n",
      "Start Date            datetime64[ns]\n",
      "End Date              datetime64[ns]\n",
      "Group                         object\n",
      "Year                         float64\n",
      "Month                        float64\n",
      "State                       category\n",
      "Condition Group             category\n",
      "Condition                   category\n",
      "ICD10_codes                 category\n",
      "Age Group                   category\n",
      "COVID-19 Deaths              float64\n",
      "Number of Mentions           float64\n",
      "Flag                        category\n",
      "dtype: object\n"
     ]
    }
   ],
   "source": [
    "# Recheck the data-types\n",
    "print(df_covid_month.dtypes)"
   ]
  },
  {
   "cell_type": "code",
   "execution_count": 51,
   "id": "94609903-fe43-46af-b71a-eabac9a8cf07",
   "metadata": {},
   "outputs": [],
   "source": [
    "# Drop the Group column as it only contains \"By Month\" and is no longer necessary for sorting/filtering\n",
    "df_covid_month = df_covid_month.drop(columns=['Group'])"
   ]
  },
  {
   "cell_type": "code",
   "execution_count": 52,
   "id": "457c1127-4ed7-4c8b-8a23-07a93cbb5bba",
   "metadata": {},
   "outputs": [
    {
     "name": "stdout",
     "output_type": "stream",
     "text": [
      "Index(['Data As Of', 'Start Date', 'End Date', 'Year', 'Month', 'State',\n",
      "       'Condition Group', 'Condition', 'ICD10_codes', 'Age Group',\n",
      "       'COVID-19 Deaths', 'Number of Mentions', 'Flag'],\n",
      "      dtype='object')\n"
     ]
    }
   ],
   "source": [
    "# Verify the changes\n",
    "print(df_covid_month.columns)"
   ]
  },
  {
   "cell_type": "markdown",
   "id": "f22d7f63-6417-4467-94f5-4c89b2704f7e",
   "metadata": {},
   "source": [
    "## 7. Cleaning Errors and Inconsistencies"
   ]
  },
  {
   "cell_type": "code",
   "execution_count": 93,
   "id": "d80db51c-3cea-4030-8aa3-e80693d4aa4a",
   "metadata": {},
   "outputs": [
    {
     "name": "stdout",
     "output_type": "stream",
     "text": [
      "\n",
      "Column: State\n",
      "Number of unique values: 54\n",
      "Unique values:\n",
      "  - United States\n",
      "  - Alabama\n",
      "  - Alaska\n",
      "  - Arizona\n",
      "  - Arkansas\n",
      "  - California\n",
      "  - Colorado\n",
      "  - Connecticut\n",
      "  - Delaware\n",
      "  - District of Columbia\n",
      "  - Florida\n",
      "  - Georgia\n",
      "  - Hawaii\n",
      "  - Idaho\n",
      "  - Illinois\n",
      "  - Indiana\n",
      "  - Iowa\n",
      "  - Kansas\n",
      "  - Kentucky\n",
      "  - Louisiana\n",
      "  - Maine\n",
      "  - Maryland\n",
      "  - Massachusetts\n",
      "  - Michigan\n",
      "  - Minnesota\n",
      "  - Mississippi\n",
      "  - Missouri\n",
      "  - Montana\n",
      "  - Nebraska\n",
      "  - Nevada\n",
      "  - New Hampshire\n",
      "  - New Jersey\n",
      "  - New Mexico\n",
      "  - New York\n",
      "  - New York City\n",
      "  - North Carolina\n",
      "  - North Dakota\n",
      "  - Ohio\n",
      "  - Oklahoma\n",
      "  - Oregon\n",
      "  - Pennsylvania\n",
      "  - Rhode Island\n",
      "  - South Carolina\n",
      "  - South Dakota\n",
      "  - Tennessee\n",
      "  - Texas\n",
      "  - Utah\n",
      "  - Vermont\n",
      "  - Virginia\n",
      "  - Washington\n",
      "  - West Virginia\n",
      "  - Wisconsin\n",
      "  - Wyoming\n",
      "  - Puerto Rico\n"
     ]
    }
   ],
   "source": [
    "# Verify unique values in the category columns\n",
    "unique_covid = {col: df_covid_month[col].unique() for col in ['State']}\n",
    "for col, values in unique_covid.items():\n",
    "    print(f\"\\nColumn: {col}\")\n",
    "    print(f\"Number of unique values: {len(values)}\")\n",
    "    print(\"Unique values:\")\n",
    "    for value in values:\n",
    "        print(f\"  - {value}\")"
   ]
  },
  {
   "cell_type": "markdown",
   "id": "a42d15a3-5c8d-44ec-b615-d452fc03647f",
   "metadata": {},
   "source": [
    "The State column has 54 unique values, which is different from the 50 we would expect. Looking at the unique values, we can see there are entries for United States, which appear to be aggregated data, New York City, Puerto Rico, and District of Columbia. United States and Puerto Rico will be removed from the dataframe to focus on the 50 states. New York City will be kept in the data because New York City data is excluded from New York State data. District of Columbia data will also be kept for now and will be revaluated later."
   ]
  },
  {
   "cell_type": "code",
   "execution_count": 96,
   "id": "be90699b-f6f4-4b64-ace4-21a90222166c",
   "metadata": {},
   "outputs": [
    {
     "name": "stdout",
     "output_type": "stream",
     "text": [
      "\n",
      "Column: Condition Group\n",
      "Number of unique values: 12\n",
      "Unique values:\n",
      "  - Respiratory diseases\n",
      "  - Circulatory diseases\n",
      "  - Sepsis\n",
      "  - Malignant neoplasms\n",
      "  - Diabetes\n",
      "  - Obesity\n",
      "  - Alzheimer disease\n",
      "  - Vascular and unspecified dementia\n",
      "  - Renal failure\n",
      "  - Intentional and unintentional injury, poisoning, and other adverse events\n",
      "  - All other conditions and causes (residual)\n",
      "  - COVID-19\n"
     ]
    }
   ],
   "source": [
    "# Unique values for categorical columns\n",
    "unique_covid = {col: df_covid_month[col].unique() for col in ['Condition Group']}\n",
    "for col, values in unique_covid.items():\n",
    "    print(f\"\\nColumn: {col}\")\n",
    "    print(f\"Number of unique values: {len(values)}\")\n",
    "    print(\"Unique values:\")\n",
    "    for value in values:\n",
    "        print(f\"  - {value}\")"
   ]
  },
  {
   "cell_type": "code",
   "execution_count": 98,
   "id": "985d1d99-938e-403d-8255-d186fa3ded89",
   "metadata": {},
   "outputs": [
    {
     "name": "stdout",
     "output_type": "stream",
     "text": [
      "\n",
      "Column: Condition\n",
      "Number of unique values: 23\n",
      "Unique values:\n",
      "  - Influenza and pneumonia\n",
      "  - Chronic lower respiratory diseases\n",
      "  - Adult respiratory distress syndrome\n",
      "  - Respiratory failure\n",
      "  - Respiratory arrest\n",
      "  - Other diseases of the respiratory system\n",
      "  - Hypertensive diseases\n",
      "  - Ischemic heart disease\n",
      "  - Cardiac arrest\n",
      "  - Cardiac arrhythmia\n",
      "  - Heart failure\n",
      "  - Cerebrovascular diseases\n",
      "  - Other diseases of the circulatory system\n",
      "  - Sepsis\n",
      "  - Malignant neoplasms\n",
      "  - Diabetes\n",
      "  - Obesity\n",
      "  - Alzheimer disease\n",
      "  - Vascular and unspecified dementia\n",
      "  - Renal failure\n",
      "  - Intentional and unintentional injury, poisoning, and other adverse events\n",
      "  - All other conditions and causes (residual)\n",
      "  - COVID-19\n"
     ]
    }
   ],
   "source": [
    "# Unique values for categorical columns\n",
    "unique_covid = {col: df_covid_month[col].unique() for col in ['Condition']}\n",
    "for col, values in unique_covid.items():\n",
    "    print(f\"\\nColumn: {col}\")\n",
    "    print(f\"Number of unique values: {len(values)}\")\n",
    "    print(\"Unique values:\")\n",
    "    for value in values:\n",
    "        print(f\"  - {value}\")"
   ]
  },
  {
   "cell_type": "code",
   "execution_count": 100,
   "id": "2eb7b8c0-d451-4cf6-a11d-9fb1797caa15",
   "metadata": {},
   "outputs": [
    {
     "name": "stdout",
     "output_type": "stream",
     "text": [
      "\n",
      "Column: ICD10_codes\n",
      "Number of unique values: 23\n",
      "Unique values:\n",
      "  - J09-J18\n",
      "  - J40-J47\n",
      "  - J80\n",
      "  - J96\n",
      "  - R09.2\n",
      "  - J00-J06, J20-J39, J60-J70, J81-J86, J90-J95, J97-J99, U04\n",
      "  - I10-I15\n",
      "  - I20-I25\n",
      "  - I46\n",
      "  - I44, I45, I47-I49\n",
      "  - I50\n",
      "  - I60-I69\n",
      "  - I00-I09, I26-I43, I51, I52, I70-I99\n",
      "  - A40-A41\n",
      "  - C00-C97\n",
      "  - E10-E14\n",
      "  - E65-E68\n",
      "  - G30\n",
      "  - F01, F03\n",
      "  - N17-N19\n",
      "  - S00-T98, V01-X59, X60-X84, X85-Y09, Y10-Y36, Y40-Y89, U01-U03\n",
      "  - A00-A39, A42-B99, D00-E07, E15-E64, E70-E90, F00, F02, F04-G26, G31-H95, K00-K93, L00-M99, N00-N16, N20-N98, O00-O99, P00-P96, Q00-Q99, R00-R08, R09.0, R09.1, R09.3, R09.8, R10-R99\n",
      "  - U071\n"
     ]
    }
   ],
   "source": [
    "# Unique values for categorical columns\n",
    "unique_covid = {col: df_covid_month[col].unique() for col in ['ICD10_codes']}\n",
    "for col, values in unique_covid.items():\n",
    "    print(f\"\\nColumn: {col}\")\n",
    "    print(f\"Number of unique values: {len(values)}\")\n",
    "    print(\"Unique values:\")\n",
    "    for value in values:\n",
    "        print(f\"  - {value}\")"
   ]
  },
  {
   "cell_type": "code",
   "execution_count": 102,
   "id": "af06fa6a-68b6-44c7-8950-7dd92f9bce0a",
   "metadata": {},
   "outputs": [
    {
     "name": "stdout",
     "output_type": "stream",
     "text": [
      "\n",
      "Column: Age Group\n",
      "Number of unique values: 10\n",
      "Unique values:\n",
      "  - 0-24\n",
      "  - 25-34\n",
      "  - 35-44\n",
      "  - 45-54\n",
      "  - 55-64\n",
      "  - 65-74\n",
      "  - 75-84\n",
      "  - 85+\n",
      "  - Not stated\n",
      "  - All Ages\n"
     ]
    }
   ],
   "source": [
    "# Unique values for categorical columns\n",
    "unique_covid = {col: df_covid_month[col].unique() for col in ['Age Group']}\n",
    "for col, values in unique_covid.items():\n",
    "    print(f\"\\nColumn: {col}\")\n",
    "    print(f\"Number of unique values: {len(values)}\")\n",
    "    print(\"Unique values:\")\n",
    "    for value in values:\n",
    "        print(f\"  - {value}\")"
   ]
  },
  {
   "cell_type": "markdown",
   "id": "aadcda04-be21-4419-9a56-76a668429016",
   "metadata": {},
   "source": [
    "Reviewing the unique values in Age Group, we see the All ages grouping which are aggregated rows and do not contribute anything to the analysis and should be removed. We also see a Not stated group and upon further investigation, all rows in that grouping have zero deaths and zero mentions and should also be removed from the dataframe since it does not contribute to the analysis in a meaningful way."
   ]
  },
  {
   "cell_type": "code",
   "execution_count": 104,
   "id": "eb0df92b-382a-47a2-93fc-87669c61db76",
   "metadata": {},
   "outputs": [
    {
     "name": "stdout",
     "output_type": "stream",
     "text": [
      "\n",
      "Column: Flag\n",
      "Number of unique values: 2\n",
      "Unique values:\n",
      "  - nan\n",
      "  - One or more data cells have counts between 1-9 and have been suppressed in accordance with NCHS confidentiality standards.\n"
     ]
    }
   ],
   "source": [
    "# Unique values for categorical columns\n",
    "unique_covid = {col: df_covid_month[col].unique() for col in ['Flag']}\n",
    "for col, values in unique_covid.items():\n",
    "    print(f\"\\nColumn: {col}\")\n",
    "    print(f\"Number of unique values: {len(values)}\")\n",
    "    print(\"Unique values:\")\n",
    "    for value in values:\n",
    "        print(f\"  - {value}\")"
   ]
  },
  {
   "cell_type": "code",
   "execution_count": 107,
   "id": "0d4d9578-0012-49a5-93bb-54b2accfb6c9",
   "metadata": {},
   "outputs": [],
   "source": [
    "# Filter out rows where State is the United States or Puerto Rico\n",
    "df_covid_states = df_covid_month[~df_covid_month['State'].isin(['United States', 'Puerto Rico'])]"
   ]
  },
  {
   "cell_type": "code",
   "execution_count": 109,
   "id": "e7161a65-ea47-4379-af43-c740ec6b6414",
   "metadata": {},
   "outputs": [],
   "source": [
    "# Remove rows where Age Group is \"All Ages\"\n",
    "df_covid_cleaned = df_covid_states[df_covid_states['Age Group'] != 'All Ages']"
   ]
  },
  {
   "cell_type": "code",
   "execution_count": 111,
   "id": "5cb0e366-5aef-49d8-acd1-20114d11a532",
   "metadata": {},
   "outputs": [],
   "source": [
    "# Remove rows where Age Group is \"Not stated\"\n",
    "df_covid_final_cleaned = df_covid_cleaned[df_covid_cleaned['Age Group'] != 'Not stated']"
   ]
  },
  {
   "cell_type": "code",
   "execution_count": 119,
   "id": "ca8c4a65-535a-4171-b708-2f0319a64da7",
   "metadata": {},
   "outputs": [
    {
     "name": "stdout",
     "output_type": "stream",
     "text": [
      "\n",
      "Column: State\n",
      "Number of unique values: 52\n",
      "Unique values:\n",
      "  - Alabama\n",
      "  - Alaska\n",
      "  - Arizona\n",
      "  - Arkansas\n",
      "  - California\n",
      "  - Colorado\n",
      "  - Connecticut\n",
      "  - Delaware\n",
      "  - District of Columbia\n",
      "  - Florida\n",
      "  - Georgia\n",
      "  - Hawaii\n",
      "  - Idaho\n",
      "  - Illinois\n",
      "  - Indiana\n",
      "  - Iowa\n",
      "  - Kansas\n",
      "  - Kentucky\n",
      "  - Louisiana\n",
      "  - Maine\n",
      "  - Maryland\n",
      "  - Massachusetts\n",
      "  - Michigan\n",
      "  - Minnesota\n",
      "  - Mississippi\n",
      "  - Missouri\n",
      "  - Montana\n",
      "  - Nebraska\n",
      "  - Nevada\n",
      "  - New Hampshire\n",
      "  - New Jersey\n",
      "  - New Mexico\n",
      "  - New York\n",
      "  - New York City\n",
      "  - North Carolina\n",
      "  - North Dakota\n",
      "  - Ohio\n",
      "  - Oklahoma\n",
      "  - Oregon\n",
      "  - Pennsylvania\n",
      "  - Rhode Island\n",
      "  - South Carolina\n",
      "  - South Dakota\n",
      "  - Tennessee\n",
      "  - Texas\n",
      "  - Utah\n",
      "  - Vermont\n",
      "  - Virginia\n",
      "  - Washington\n",
      "  - West Virginia\n",
      "  - Wisconsin\n",
      "  - Wyoming\n"
     ]
    }
   ],
   "source": [
    "# Recheck the unique values for the changed State column\n",
    "unique_covid_cleaned = {col: df_covid_final_cleaned[col].unique() for col in ['State']}\n",
    "for col, values in unique_covid_cleaned.items():\n",
    "    print(f\"\\nColumn: {col}\")\n",
    "    print(f\"Number of unique values: {len(values)}\")\n",
    "    print(\"Unique values:\")\n",
    "    for value in values:\n",
    "        print(f\"  - {value}\")"
   ]
  },
  {
   "cell_type": "code",
   "execution_count": 121,
   "id": "da8b7c79-4198-4bd6-950c-4ecbbba9f2e9",
   "metadata": {},
   "outputs": [
    {
     "name": "stdout",
     "output_type": "stream",
     "text": [
      "\n",
      "Column: Age Group\n",
      "Number of unique values: 8\n",
      "Unique values:\n",
      "  - 0-24\n",
      "  - 25-34\n",
      "  - 35-44\n",
      "  - 45-54\n",
      "  - 55-64\n",
      "  - 65-74\n",
      "  - 75-84\n",
      "  - 85+\n"
     ]
    }
   ],
   "source": [
    "# Recheck the unique values for the changed Age Group column\n",
    "unique_covid_cleaned = {col: df_covid_final_cleaned[col].unique() for col in ['Age Group']}\n",
    "for col, values in unique_covid_cleaned.items():\n",
    "    print(f\"\\nColumn: {col}\")\n",
    "    print(f\"Number of unique values: {len(values)}\")\n",
    "    print(\"Unique values:\")\n",
    "    for value in values:\n",
    "        print(f\"  - {value}\")"
   ]
  },
  {
   "cell_type": "markdown",
   "id": "6d97605e-4f5a-4444-9657-31940a9b819b",
   "metadata": {},
   "source": [
    "## 8. Statistical checking for numerical columns"
   ]
  },
  {
   "cell_type": "code",
   "execution_count": 124,
   "id": "7577b34f-a9a4-45de-a1c9-da1014f9edaf",
   "metadata": {},
   "outputs": [
    {
     "data": {
      "text/html": [
       "<div>\n",
       "<style scoped>\n",
       "    .dataframe tbody tr th:only-of-type {\n",
       "        vertical-align: middle;\n",
       "    }\n",
       "\n",
       "    .dataframe tbody tr th {\n",
       "        vertical-align: top;\n",
       "    }\n",
       "\n",
       "    .dataframe thead th {\n",
       "        text-align: right;\n",
       "    }\n",
       "</style>\n",
       "<table border=\"1\" class=\"dataframe\">\n",
       "  <thead>\n",
       "    <tr style=\"text-align: right;\">\n",
       "      <th></th>\n",
       "      <th>Year</th>\n",
       "      <th>Month</th>\n",
       "      <th>COVID-19 Deaths</th>\n",
       "      <th>Number of Mentions</th>\n",
       "    </tr>\n",
       "  </thead>\n",
       "  <tbody>\n",
       "    <tr>\n",
       "      <th>count</th>\n",
       "      <td>430560.000000</td>\n",
       "      <td>430560.000000</td>\n",
       "      <td>430560.000000</td>\n",
       "      <td>430560.000000</td>\n",
       "    </tr>\n",
       "    <tr>\n",
       "      <th>mean</th>\n",
       "      <td>2021.400000</td>\n",
       "      <td>6.200000</td>\n",
       "      <td>10.914709</td>\n",
       "      <td>11.784485</td>\n",
       "    </tr>\n",
       "    <tr>\n",
       "      <th>std</th>\n",
       "      <td>1.083206</td>\n",
       "      <td>3.350626</td>\n",
       "      <td>53.958118</td>\n",
       "      <td>57.090120</td>\n",
       "    </tr>\n",
       "    <tr>\n",
       "      <th>min</th>\n",
       "      <td>2020.000000</td>\n",
       "      <td>1.000000</td>\n",
       "      <td>0.000000</td>\n",
       "      <td>0.000000</td>\n",
       "    </tr>\n",
       "    <tr>\n",
       "      <th>25%</th>\n",
       "      <td>2020.000000</td>\n",
       "      <td>3.000000</td>\n",
       "      <td>0.000000</td>\n",
       "      <td>0.000000</td>\n",
       "    </tr>\n",
       "    <tr>\n",
       "      <th>50%</th>\n",
       "      <td>2021.000000</td>\n",
       "      <td>6.000000</td>\n",
       "      <td>1.000000</td>\n",
       "      <td>1.000000</td>\n",
       "    </tr>\n",
       "    <tr>\n",
       "      <th>75%</th>\n",
       "      <td>2022.000000</td>\n",
       "      <td>9.000000</td>\n",
       "      <td>7.000000</td>\n",
       "      <td>8.000000</td>\n",
       "    </tr>\n",
       "    <tr>\n",
       "      <th>max</th>\n",
       "      <td>2023.000000</td>\n",
       "      <td>12.000000</td>\n",
       "      <td>5094.000000</td>\n",
       "      <td>5094.000000</td>\n",
       "    </tr>\n",
       "  </tbody>\n",
       "</table>\n",
       "</div>"
      ],
      "text/plain": [
       "                Year          Month  COVID-19 Deaths  Number of Mentions\n",
       "count  430560.000000  430560.000000    430560.000000       430560.000000\n",
       "mean     2021.400000       6.200000        10.914709           11.784485\n",
       "std         1.083206       3.350626        53.958118           57.090120\n",
       "min      2020.000000       1.000000         0.000000            0.000000\n",
       "25%      2020.000000       3.000000         0.000000            0.000000\n",
       "50%      2021.000000       6.000000         1.000000            1.000000\n",
       "75%      2022.000000       9.000000         7.000000            8.000000\n",
       "max      2023.000000      12.000000      5094.000000         5094.000000"
      ]
     },
     "execution_count": 124,
     "metadata": {},
     "output_type": "execute_result"
    }
   ],
   "source": [
    "# Statistical summaries for numerical columns\n",
    "df_covid_final_cleaned[['Year', 'Month', 'COVID-19 Deaths', 'Number of Mentions']].describe()"
   ]
  },
  {
   "cell_type": "code",
   "execution_count": 126,
   "id": "e300eac7-ba59-4f45-a975-ab9f10c7c3a0",
   "metadata": {},
   "outputs": [
    {
     "name": "stderr",
     "output_type": "stream",
     "text": [
      "C:\\Users\\Stony\\anaconda3\\Lib\\site-packages\\seaborn\\_oldcore.py:1119: FutureWarning: use_inf_as_na option is deprecated and will be removed in a future version. Convert inf values to NaN before operating instead.\n",
      "  with pd.option_context('mode.use_inf_as_na', True):\n"
     ]
    },
    {
     "data": {
      "image/png": "[encoded data removed]",
      "text/plain": [
       "<Figure size 1000x600 with 1 Axes>"
      ]
     },
     "metadata": {},
     "output_type": "display_data"
    },
    {
     "name": "stderr",
     "output_type": "stream",
     "text": [
      "C:\\Users\\Stony\\anaconda3\\Lib\\site-packages\\seaborn\\_oldcore.py:1119: FutureWarning: use_inf_as_na option is deprecated and will be removed in a future version. Convert inf values to NaN before operating instead.\n",
      "  with pd.option_context('mode.use_inf_as_na', True):\n"
     ]
    },
    {
     "data": {
      "image/png": "[encoded data removed]",
      "text/plain": [
       "<Figure size 1000x600 with 1 Axes>"
      ]
     },
     "metadata": {},
     "output_type": "display_data"
    },
    {
     "name": "stderr",
     "output_type": "stream",
     "text": [
      "C:\\Users\\Stony\\anaconda3\\Lib\\site-packages\\seaborn\\_oldcore.py:1119: FutureWarning: use_inf_as_na option is deprecated and will be removed in a future version. Convert inf values to NaN before operating instead.\n",
      "  with pd.option_context('mode.use_inf_as_na', True):\n"
     ]
    },
    {
     "data": {
      "image/png": "[encoded data removed]",
      "text/plain": [
       "<Figure size 1000x600 with 1 Axes>"
      ]
     },
     "metadata": {},
     "output_type": "display_data"
    },
    {
     "name": "stderr",
     "output_type": "stream",
     "text": [
      "C:\\Users\\Stony\\anaconda3\\Lib\\site-packages\\seaborn\\_oldcore.py:1119: FutureWarning: use_inf_as_na option is deprecated and will be removed in a future version. Convert inf values to NaN before operating instead.\n",
      "  with pd.option_context('mode.use_inf_as_na', True):\n"
     ]
    },
    {
     "data": {
      "image/png": "[encoded data removed]",
      "text/plain": [
       "<Figure size 1000x600 with 1 Axes>"
      ]
     },
     "metadata": {},
     "output_type": "display_data"
    }
   ],
   "source": [
    "# Distribution plots for numerical columns\n",
    "numerical_columns = ['Year', 'Month', 'COVID-19 Deaths', 'Number of Mentions']\n",
    "for col in numerical_columns:\n",
    "    plt.figure(figsize=(10, 6))\n",
    "    sns.histplot(df_covid_final_cleaned[col], bins=50, kde=True)\n",
    "    plt.title(f'Distribution of {col}')\n",
    "    plt.xlabel(col)\n",
    "    plt.ylabel('Frequency')\n",
    "    plt.show()"
   ]
  },
  {
   "cell_type": "markdown",
   "id": "ed0a9e91-092c-4280-a256-feecc52c1622",
   "metadata": {},
   "source": [
    "Summary of Year and Month data show that there is data for 2020 through 2023 with every month being represented from January through December for years 2020, 2021, and 2022. The month data for 2023 ranges from January through September, when the data collection ended. "
   ]
  },
  {
   "cell_type": "markdown",
   "id": "0b910b5b-f403-4879-8b6f-a1dc9ff86072",
   "metadata": {},
   "source": [
    "Reviewing Covid-19 deaths and number of mentions show a relatively low mean value when compared to the maximum values. Both columns have large standard deviations, which is indicative of significant variability. The median value is one for both columns, representing that at least half of the entries are non-zero."
   ]
  },
  {
   "cell_type": "markdown",
   "id": "b79dc002-4e5f-4e75-9b3c-59ee229baf25",
   "metadata": {},
   "source": [
    "## 9. Checking for outliers"
   ]
  },
  {
   "cell_type": "code",
   "execution_count": 134,
   "id": "8af53f82-170d-44af-8947-d11868882932",
   "metadata": {},
   "outputs": [],
   "source": [
    "# Check for outliers using the IQR method by creating a function\n",
    "def find_column_outliers_IQR(df, column):\n",
    "    # Calculate Q1, Q3 and IQR\n",
    "    Q1 = df[column].quantile(0.25)\n",
    "    Q3 = df[column].quantile(0.75)\n",
    "    IQR = Q3 - Q1\n",
    "    \n",
    "    # Define bounds for outliers\n",
    "    lower_bound = Q1 - 1.5 * IQR\n",
    "    upper_bound = Q3 + 1.5 * IQR\n",
    "    \n",
    "    # Find indices of outliers\n",
    "    outlier_indices = df[(df[column] < lower_bound) | (df[column] > upper_bound)].index\n",
    "    \n",
    "    return df.loc[outlier_indices]"
   ]
  },
  {
   "cell_type": "code",
   "execution_count": 136,
   "id": "84341582-393d-4bec-a093-2e32ef2fa558",
   "metadata": {},
   "outputs": [
    {
     "data": {
      "text/html": [
       "<div>\n",
       "<style scoped>\n",
       "    .dataframe tbody tr th:only-of-type {\n",
       "        vertical-align: middle;\n",
       "    }\n",
       "\n",
       "    .dataframe tbody tr th {\n",
       "        vertical-align: top;\n",
       "    }\n",
       "\n",
       "    .dataframe thead th {\n",
       "        text-align: right;\n",
       "    }\n",
       "</style>\n",
       "<table border=\"1\" class=\"dataframe\">\n",
       "  <thead>\n",
       "    <tr style=\"text-align: right;\">\n",
       "      <th></th>\n",
       "      <th>Data As Of</th>\n",
       "      <th>Start Date</th>\n",
       "      <th>End Date</th>\n",
       "      <th>Year</th>\n",
       "      <th>Month</th>\n",
       "      <th>State</th>\n",
       "      <th>Condition Group</th>\n",
       "      <th>Condition</th>\n",
       "      <th>ICD10_codes</th>\n",
       "      <th>Age Group</th>\n",
       "      <th>COVID-19 Deaths</th>\n",
       "      <th>Number of Mentions</th>\n",
       "      <th>Flag</th>\n",
       "    </tr>\n",
       "  </thead>\n",
       "  <tbody>\n",
       "  </tbody>\n",
       "</table>\n",
       "</div>"
      ],
      "text/plain": [
       "Empty DataFrame\n",
       "Columns: [Data As Of, Start Date, End Date, Year, Month, State, Condition Group, Condition, ICD10_codes, Age Group, COVID-19 Deaths, Number of Mentions, Flag]\n",
       "Index: []"
      ]
     },
     "execution_count": 136,
     "metadata": {},
     "output_type": "execute_result"
    }
   ],
   "source": [
    "# Check for outliers in Year\n",
    "year_outliers = find_column_outliers_IQR(df_covid_final_cleaned, 'Year')\n",
    "year_outliers"
   ]
  },
  {
   "cell_type": "code",
   "execution_count": 138,
   "id": "eb65c10b-3673-4c93-915c-fe7c996e2c6e",
   "metadata": {},
   "outputs": [
    {
     "data": {
      "text/html": [
       "<div>\n",
       "<style scoped>\n",
       "    .dataframe tbody tr th:only-of-type {\n",
       "        vertical-align: middle;\n",
       "    }\n",
       "\n",
       "    .dataframe tbody tr th {\n",
       "        vertical-align: top;\n",
       "    }\n",
       "\n",
       "    .dataframe thead th {\n",
       "        text-align: right;\n",
       "    }\n",
       "</style>\n",
       "<table border=\"1\" class=\"dataframe\">\n",
       "  <thead>\n",
       "    <tr style=\"text-align: right;\">\n",
       "      <th></th>\n",
       "      <th>Data As Of</th>\n",
       "      <th>Start Date</th>\n",
       "      <th>End Date</th>\n",
       "      <th>Year</th>\n",
       "      <th>Month</th>\n",
       "      <th>State</th>\n",
       "      <th>Condition Group</th>\n",
       "      <th>Condition</th>\n",
       "      <th>ICD10_codes</th>\n",
       "      <th>Age Group</th>\n",
       "      <th>COVID-19 Deaths</th>\n",
       "      <th>Number of Mentions</th>\n",
       "      <th>Flag</th>\n",
       "    </tr>\n",
       "  </thead>\n",
       "  <tbody>\n",
       "  </tbody>\n",
       "</table>\n",
       "</div>"
      ],
      "text/plain": [
       "Empty DataFrame\n",
       "Columns: [Data As Of, Start Date, End Date, Year, Month, State, Condition Group, Condition, ICD10_codes, Age Group, COVID-19 Deaths, Number of Mentions, Flag]\n",
       "Index: []"
      ]
     },
     "execution_count": 138,
     "metadata": {},
     "output_type": "execute_result"
    }
   ],
   "source": [
    "# Check for outliers in \"Month\"\n",
    "month_outliers = find_column_outliers_IQR(df_covid_final_cleaned, 'Month')\n",
    "month_outliers"
   ]
  },
  {
   "cell_type": "code",
   "execution_count": 140,
   "id": "06da42cc-5845-4296-a4e0-cba319eaacf5",
   "metadata": {},
   "outputs": [
    {
     "data": {
      "text/html": [
       "<div>\n",
       "<style scoped>\n",
       "    .dataframe tbody tr th:only-of-type {\n",
       "        vertical-align: middle;\n",
       "    }\n",
       "\n",
       "    .dataframe tbody tr th {\n",
       "        vertical-align: top;\n",
       "    }\n",
       "\n",
       "    .dataframe thead th {\n",
       "        text-align: right;\n",
       "    }\n",
       "</style>\n",
       "<table border=\"1\" class=\"dataframe\">\n",
       "  <thead>\n",
       "    <tr style=\"text-align: right;\">\n",
       "      <th></th>\n",
       "      <th>Data As Of</th>\n",
       "      <th>Start Date</th>\n",
       "      <th>End Date</th>\n",
       "      <th>Year</th>\n",
       "      <th>Month</th>\n",
       "      <th>State</th>\n",
       "      <th>Condition Group</th>\n",
       "      <th>Condition</th>\n",
       "      <th>ICD10_codes</th>\n",
       "      <th>Age Group</th>\n",
       "      <th>COVID-19 Deaths</th>\n",
       "      <th>Number of Mentions</th>\n",
       "      <th>Flag</th>\n",
       "    </tr>\n",
       "  </thead>\n",
       "  <tbody>\n",
       "    <tr>\n",
       "      <th>72514</th>\n",
       "      <td>2023-09-24</td>\n",
       "      <td>2021-08-01</td>\n",
       "      <td>2021-08-31</td>\n",
       "      <td>2021.0</td>\n",
       "      <td>8.0</td>\n",
       "      <td>Alabama</td>\n",
       "      <td>Respiratory diseases</td>\n",
       "      <td>Influenza and pneumonia</td>\n",
       "      <td>J09-J18</td>\n",
       "      <td>25-34</td>\n",
       "      <td>30.0</td>\n",
       "      <td>31.0</td>\n",
       "      <td>NaN</td>\n",
       "    </tr>\n",
       "    <tr>\n",
       "      <th>72552</th>\n",
       "      <td>2023-09-24</td>\n",
       "      <td>2021-01-01</td>\n",
       "      <td>2021-01-31</td>\n",
       "      <td>2021.0</td>\n",
       "      <td>1.0</td>\n",
       "      <td>Alabama</td>\n",
       "      <td>Respiratory diseases</td>\n",
       "      <td>Influenza and pneumonia</td>\n",
       "      <td>J09-J18</td>\n",
       "      <td>35-44</td>\n",
       "      <td>18.0</td>\n",
       "      <td>18.0</td>\n",
       "      <td>NaN</td>\n",
       "    </tr>\n",
       "    <tr>\n",
       "      <th>72559</th>\n",
       "      <td>2023-09-24</td>\n",
       "      <td>2021-08-01</td>\n",
       "      <td>2021-08-31</td>\n",
       "      <td>2021.0</td>\n",
       "      <td>8.0</td>\n",
       "      <td>Alabama</td>\n",
       "      <td>Respiratory diseases</td>\n",
       "      <td>Influenza and pneumonia</td>\n",
       "      <td>J09-J18</td>\n",
       "      <td>35-44</td>\n",
       "      <td>50.0</td>\n",
       "      <td>50.0</td>\n",
       "      <td>NaN</td>\n",
       "    </tr>\n",
       "    <tr>\n",
       "      <th>72560</th>\n",
       "      <td>2023-09-24</td>\n",
       "      <td>2021-09-01</td>\n",
       "      <td>2021-09-30</td>\n",
       "      <td>2021.0</td>\n",
       "      <td>9.0</td>\n",
       "      <td>Alabama</td>\n",
       "      <td>Respiratory diseases</td>\n",
       "      <td>Influenza and pneumonia</td>\n",
       "      <td>J09-J18</td>\n",
       "      <td>35-44</td>\n",
       "      <td>53.0</td>\n",
       "      <td>56.0</td>\n",
       "      <td>NaN</td>\n",
       "    </tr>\n",
       "    <tr>\n",
       "      <th>72561</th>\n",
       "      <td>2023-09-24</td>\n",
       "      <td>2021-10-01</td>\n",
       "      <td>2021-10-31</td>\n",
       "      <td>2021.0</td>\n",
       "      <td>10.0</td>\n",
       "      <td>Alabama</td>\n",
       "      <td>Respiratory diseases</td>\n",
       "      <td>Influenza and pneumonia</td>\n",
       "      <td>J09-J18</td>\n",
       "      <td>35-44</td>\n",
       "      <td>23.0</td>\n",
       "      <td>26.0</td>\n",
       "      <td>NaN</td>\n",
       "    </tr>\n",
       "    <tr>\n",
       "      <th>...</th>\n",
       "      <td>...</td>\n",
       "      <td>...</td>\n",
       "      <td>...</td>\n",
       "      <td>...</td>\n",
       "      <td>...</td>\n",
       "      <td>...</td>\n",
       "      <td>...</td>\n",
       "      <td>...</td>\n",
       "      <td>...</td>\n",
       "      <td>...</td>\n",
       "      <td>...</td>\n",
       "      <td>...</td>\n",
       "      <td>...</td>\n",
       "    </tr>\n",
       "    <tr>\n",
       "      <th>610534</th>\n",
       "      <td>2023-09-24</td>\n",
       "      <td>2021-08-01</td>\n",
       "      <td>2021-08-31</td>\n",
       "      <td>2021.0</td>\n",
       "      <td>8.0</td>\n",
       "      <td>Wyoming</td>\n",
       "      <td>COVID-19</td>\n",
       "      <td>COVID-19</td>\n",
       "      <td>U071</td>\n",
       "      <td>85+</td>\n",
       "      <td>20.0</td>\n",
       "      <td>20.0</td>\n",
       "      <td>NaN</td>\n",
       "    </tr>\n",
       "    <tr>\n",
       "      <th>610535</th>\n",
       "      <td>2023-09-24</td>\n",
       "      <td>2021-09-01</td>\n",
       "      <td>2021-09-30</td>\n",
       "      <td>2021.0</td>\n",
       "      <td>9.0</td>\n",
       "      <td>Wyoming</td>\n",
       "      <td>COVID-19</td>\n",
       "      <td>COVID-19</td>\n",
       "      <td>U071</td>\n",
       "      <td>85+</td>\n",
       "      <td>32.0</td>\n",
       "      <td>32.0</td>\n",
       "      <td>NaN</td>\n",
       "    </tr>\n",
       "    <tr>\n",
       "      <th>610536</th>\n",
       "      <td>2023-09-24</td>\n",
       "      <td>2021-10-01</td>\n",
       "      <td>2021-10-31</td>\n",
       "      <td>2021.0</td>\n",
       "      <td>10.0</td>\n",
       "      <td>Wyoming</td>\n",
       "      <td>COVID-19</td>\n",
       "      <td>COVID-19</td>\n",
       "      <td>U071</td>\n",
       "      <td>85+</td>\n",
       "      <td>47.0</td>\n",
       "      <td>47.0</td>\n",
       "      <td>NaN</td>\n",
       "    </tr>\n",
       "    <tr>\n",
       "      <th>610537</th>\n",
       "      <td>2023-09-24</td>\n",
       "      <td>2021-11-01</td>\n",
       "      <td>2021-11-30</td>\n",
       "      <td>2021.0</td>\n",
       "      <td>11.0</td>\n",
       "      <td>Wyoming</td>\n",
       "      <td>COVID-19</td>\n",
       "      <td>COVID-19</td>\n",
       "      <td>U071</td>\n",
       "      <td>85+</td>\n",
       "      <td>28.0</td>\n",
       "      <td>28.0</td>\n",
       "      <td>NaN</td>\n",
       "    </tr>\n",
       "    <tr>\n",
       "      <th>610540</th>\n",
       "      <td>2023-09-24</td>\n",
       "      <td>2022-02-01</td>\n",
       "      <td>2022-02-28</td>\n",
       "      <td>2022.0</td>\n",
       "      <td>2.0</td>\n",
       "      <td>Wyoming</td>\n",
       "      <td>COVID-19</td>\n",
       "      <td>COVID-19</td>\n",
       "      <td>U071</td>\n",
       "      <td>85+</td>\n",
       "      <td>27.0</td>\n",
       "      <td>27.0</td>\n",
       "      <td>NaN</td>\n",
       "    </tr>\n",
       "  </tbody>\n",
       "</table>\n",
       "<p>45666 rows × 13 columns</p>\n",
       "</div>"
      ],
      "text/plain": [
       "       Data As Of Start Date   End Date    Year  Month    State  \\\n",
       "72514  2023-09-24 2021-08-01 2021-08-31  2021.0    8.0  Alabama   \n",
       "72552  2023-09-24 2021-01-01 2021-01-31  2021.0    1.0  Alabama   \n",
       "72559  2023-09-24 2021-08-01 2021-08-31  2021.0    8.0  Alabama   \n",
       "72560  2023-09-24 2021-09-01 2021-09-30  2021.0    9.0  Alabama   \n",
       "72561  2023-09-24 2021-10-01 2021-10-31  2021.0   10.0  Alabama   \n",
       "...           ...        ...        ...     ...    ...      ...   \n",
       "610534 2023-09-24 2021-08-01 2021-08-31  2021.0    8.0  Wyoming   \n",
       "610535 2023-09-24 2021-09-01 2021-09-30  2021.0    9.0  Wyoming   \n",
       "610536 2023-09-24 2021-10-01 2021-10-31  2021.0   10.0  Wyoming   \n",
       "610537 2023-09-24 2021-11-01 2021-11-30  2021.0   11.0  Wyoming   \n",
       "610540 2023-09-24 2022-02-01 2022-02-28  2022.0    2.0  Wyoming   \n",
       "\n",
       "             Condition Group                Condition ICD10_codes Age Group  \\\n",
       "72514   Respiratory diseases  Influenza and pneumonia     J09-J18     25-34   \n",
       "72552   Respiratory diseases  Influenza and pneumonia     J09-J18     35-44   \n",
       "72559   Respiratory diseases  Influenza and pneumonia     J09-J18     35-44   \n",
       "72560   Respiratory diseases  Influenza and pneumonia     J09-J18     35-44   \n",
       "72561   Respiratory diseases  Influenza and pneumonia     J09-J18     35-44   \n",
       "...                      ...                      ...         ...       ...   \n",
       "610534              COVID-19                 COVID-19        U071       85+   \n",
       "610535              COVID-19                 COVID-19        U071       85+   \n",
       "610536              COVID-19                 COVID-19        U071       85+   \n",
       "610537              COVID-19                 COVID-19        U071       85+   \n",
       "610540              COVID-19                 COVID-19        U071       85+   \n",
       "\n",
       "        COVID-19 Deaths  Number of Mentions Flag  \n",
       "72514              30.0                31.0  NaN  \n",
       "72552              18.0                18.0  NaN  \n",
       "72559              50.0                50.0  NaN  \n",
       "72560              53.0                56.0  NaN  \n",
       "72561              23.0                26.0  NaN  \n",
       "...                 ...                 ...  ...  \n",
       "610534             20.0                20.0  NaN  \n",
       "610535             32.0                32.0  NaN  \n",
       "610536             47.0                47.0  NaN  \n",
       "610537             28.0                28.0  NaN  \n",
       "610540             27.0                27.0  NaN  \n",
       "\n",
       "[45666 rows x 13 columns]"
      ]
     },
     "execution_count": 140,
     "metadata": {},
     "output_type": "execute_result"
    }
   ],
   "source": [
    "# Check for outliers in \"COVID-19 Deaths\"\n",
    "covid_deaths_outliers = find_column_outliers_IQR(df_covid_final_cleaned, 'COVID-19 Deaths')\n",
    "covid_deaths_outliers"
   ]
  },
  {
   "cell_type": "code",
   "execution_count": 142,
   "id": "e22ea6a2-bd2d-472c-9b26-34d7726054f4",
   "metadata": {},
   "outputs": [
    {
     "data": {
      "text/html": [
       "<div>\n",
       "<style scoped>\n",
       "    .dataframe tbody tr th:only-of-type {\n",
       "        vertical-align: middle;\n",
       "    }\n",
       "\n",
       "    .dataframe tbody tr th {\n",
       "        vertical-align: top;\n",
       "    }\n",
       "\n",
       "    .dataframe thead th {\n",
       "        text-align: right;\n",
       "    }\n",
       "</style>\n",
       "<table border=\"1\" class=\"dataframe\">\n",
       "  <thead>\n",
       "    <tr style=\"text-align: right;\">\n",
       "      <th></th>\n",
       "      <th>Data As Of</th>\n",
       "      <th>Start Date</th>\n",
       "      <th>End Date</th>\n",
       "      <th>Year</th>\n",
       "      <th>Month</th>\n",
       "      <th>State</th>\n",
       "      <th>Condition Group</th>\n",
       "      <th>Condition</th>\n",
       "      <th>ICD10_codes</th>\n",
       "      <th>Age Group</th>\n",
       "      <th>COVID-19 Deaths</th>\n",
       "      <th>Number of Mentions</th>\n",
       "      <th>Flag</th>\n",
       "    </tr>\n",
       "  </thead>\n",
       "  <tbody>\n",
       "    <tr>\n",
       "      <th>72514</th>\n",
       "      <td>2023-09-24</td>\n",
       "      <td>2021-08-01</td>\n",
       "      <td>2021-08-31</td>\n",
       "      <td>2021.0</td>\n",
       "      <td>8.0</td>\n",
       "      <td>Alabama</td>\n",
       "      <td>Respiratory diseases</td>\n",
       "      <td>Influenza and pneumonia</td>\n",
       "      <td>J09-J18</td>\n",
       "      <td>25-34</td>\n",
       "      <td>30.0</td>\n",
       "      <td>31.0</td>\n",
       "      <td>NaN</td>\n",
       "    </tr>\n",
       "    <tr>\n",
       "      <th>72559</th>\n",
       "      <td>2023-09-24</td>\n",
       "      <td>2021-08-01</td>\n",
       "      <td>2021-08-31</td>\n",
       "      <td>2021.0</td>\n",
       "      <td>8.0</td>\n",
       "      <td>Alabama</td>\n",
       "      <td>Respiratory diseases</td>\n",
       "      <td>Influenza and pneumonia</td>\n",
       "      <td>J09-J18</td>\n",
       "      <td>35-44</td>\n",
       "      <td>50.0</td>\n",
       "      <td>50.0</td>\n",
       "      <td>NaN</td>\n",
       "    </tr>\n",
       "    <tr>\n",
       "      <th>72560</th>\n",
       "      <td>2023-09-24</td>\n",
       "      <td>2021-09-01</td>\n",
       "      <td>2021-09-30</td>\n",
       "      <td>2021.0</td>\n",
       "      <td>9.0</td>\n",
       "      <td>Alabama</td>\n",
       "      <td>Respiratory diseases</td>\n",
       "      <td>Influenza and pneumonia</td>\n",
       "      <td>J09-J18</td>\n",
       "      <td>35-44</td>\n",
       "      <td>53.0</td>\n",
       "      <td>56.0</td>\n",
       "      <td>NaN</td>\n",
       "    </tr>\n",
       "    <tr>\n",
       "      <th>72561</th>\n",
       "      <td>2023-09-24</td>\n",
       "      <td>2021-10-01</td>\n",
       "      <td>2021-10-31</td>\n",
       "      <td>2021.0</td>\n",
       "      <td>10.0</td>\n",
       "      <td>Alabama</td>\n",
       "      <td>Respiratory diseases</td>\n",
       "      <td>Influenza and pneumonia</td>\n",
       "      <td>J09-J18</td>\n",
       "      <td>35-44</td>\n",
       "      <td>23.0</td>\n",
       "      <td>26.0</td>\n",
       "      <td>NaN</td>\n",
       "    </tr>\n",
       "    <tr>\n",
       "      <th>72596</th>\n",
       "      <td>2023-09-24</td>\n",
       "      <td>2020-12-01</td>\n",
       "      <td>2020-12-31</td>\n",
       "      <td>2020.0</td>\n",
       "      <td>12.0</td>\n",
       "      <td>Alabama</td>\n",
       "      <td>Respiratory diseases</td>\n",
       "      <td>Influenza and pneumonia</td>\n",
       "      <td>J09-J18</td>\n",
       "      <td>45-54</td>\n",
       "      <td>29.0</td>\n",
       "      <td>29.0</td>\n",
       "      <td>NaN</td>\n",
       "    </tr>\n",
       "    <tr>\n",
       "      <th>...</th>\n",
       "      <td>...</td>\n",
       "      <td>...</td>\n",
       "      <td>...</td>\n",
       "      <td>...</td>\n",
       "      <td>...</td>\n",
       "      <td>...</td>\n",
       "      <td>...</td>\n",
       "      <td>...</td>\n",
       "      <td>...</td>\n",
       "      <td>...</td>\n",
       "      <td>...</td>\n",
       "      <td>...</td>\n",
       "      <td>...</td>\n",
       "    </tr>\n",
       "    <tr>\n",
       "      <th>610527</th>\n",
       "      <td>2023-09-24</td>\n",
       "      <td>2021-01-01</td>\n",
       "      <td>2021-01-31</td>\n",
       "      <td>2021.0</td>\n",
       "      <td>1.0</td>\n",
       "      <td>Wyoming</td>\n",
       "      <td>COVID-19</td>\n",
       "      <td>COVID-19</td>\n",
       "      <td>U071</td>\n",
       "      <td>85+</td>\n",
       "      <td>33.0</td>\n",
       "      <td>33.0</td>\n",
       "      <td>NaN</td>\n",
       "    </tr>\n",
       "    <tr>\n",
       "      <th>610535</th>\n",
       "      <td>2023-09-24</td>\n",
       "      <td>2021-09-01</td>\n",
       "      <td>2021-09-30</td>\n",
       "      <td>2021.0</td>\n",
       "      <td>9.0</td>\n",
       "      <td>Wyoming</td>\n",
       "      <td>COVID-19</td>\n",
       "      <td>COVID-19</td>\n",
       "      <td>U071</td>\n",
       "      <td>85+</td>\n",
       "      <td>32.0</td>\n",
       "      <td>32.0</td>\n",
       "      <td>NaN</td>\n",
       "    </tr>\n",
       "    <tr>\n",
       "      <th>610536</th>\n",
       "      <td>2023-09-24</td>\n",
       "      <td>2021-10-01</td>\n",
       "      <td>2021-10-31</td>\n",
       "      <td>2021.0</td>\n",
       "      <td>10.0</td>\n",
       "      <td>Wyoming</td>\n",
       "      <td>COVID-19</td>\n",
       "      <td>COVID-19</td>\n",
       "      <td>U071</td>\n",
       "      <td>85+</td>\n",
       "      <td>47.0</td>\n",
       "      <td>47.0</td>\n",
       "      <td>NaN</td>\n",
       "    </tr>\n",
       "    <tr>\n",
       "      <th>610537</th>\n",
       "      <td>2023-09-24</td>\n",
       "      <td>2021-11-01</td>\n",
       "      <td>2021-11-30</td>\n",
       "      <td>2021.0</td>\n",
       "      <td>11.0</td>\n",
       "      <td>Wyoming</td>\n",
       "      <td>COVID-19</td>\n",
       "      <td>COVID-19</td>\n",
       "      <td>U071</td>\n",
       "      <td>85+</td>\n",
       "      <td>28.0</td>\n",
       "      <td>28.0</td>\n",
       "      <td>NaN</td>\n",
       "    </tr>\n",
       "    <tr>\n",
       "      <th>610540</th>\n",
       "      <td>2023-09-24</td>\n",
       "      <td>2022-02-01</td>\n",
       "      <td>2022-02-28</td>\n",
       "      <td>2022.0</td>\n",
       "      <td>2.0</td>\n",
       "      <td>Wyoming</td>\n",
       "      <td>COVID-19</td>\n",
       "      <td>COVID-19</td>\n",
       "      <td>U071</td>\n",
       "      <td>85+</td>\n",
       "      <td>27.0</td>\n",
       "      <td>27.0</td>\n",
       "      <td>NaN</td>\n",
       "    </tr>\n",
       "  </tbody>\n",
       "</table>\n",
       "<p>43020 rows × 13 columns</p>\n",
       "</div>"
      ],
      "text/plain": [
       "       Data As Of Start Date   End Date    Year  Month    State  \\\n",
       "72514  2023-09-24 2021-08-01 2021-08-31  2021.0    8.0  Alabama   \n",
       "72559  2023-09-24 2021-08-01 2021-08-31  2021.0    8.0  Alabama   \n",
       "72560  2023-09-24 2021-09-01 2021-09-30  2021.0    9.0  Alabama   \n",
       "72561  2023-09-24 2021-10-01 2021-10-31  2021.0   10.0  Alabama   \n",
       "72596  2023-09-24 2020-12-01 2020-12-31  2020.0   12.0  Alabama   \n",
       "...           ...        ...        ...     ...    ...      ...   \n",
       "610527 2023-09-24 2021-01-01 2021-01-31  2021.0    1.0  Wyoming   \n",
       "610535 2023-09-24 2021-09-01 2021-09-30  2021.0    9.0  Wyoming   \n",
       "610536 2023-09-24 2021-10-01 2021-10-31  2021.0   10.0  Wyoming   \n",
       "610537 2023-09-24 2021-11-01 2021-11-30  2021.0   11.0  Wyoming   \n",
       "610540 2023-09-24 2022-02-01 2022-02-28  2022.0    2.0  Wyoming   \n",
       "\n",
       "             Condition Group                Condition ICD10_codes Age Group  \\\n",
       "72514   Respiratory diseases  Influenza and pneumonia     J09-J18     25-34   \n",
       "72559   Respiratory diseases  Influenza and pneumonia     J09-J18     35-44   \n",
       "72560   Respiratory diseases  Influenza and pneumonia     J09-J18     35-44   \n",
       "72561   Respiratory diseases  Influenza and pneumonia     J09-J18     35-44   \n",
       "72596   Respiratory diseases  Influenza and pneumonia     J09-J18     45-54   \n",
       "...                      ...                      ...         ...       ...   \n",
       "610527              COVID-19                 COVID-19        U071       85+   \n",
       "610535              COVID-19                 COVID-19        U071       85+   \n",
       "610536              COVID-19                 COVID-19        U071       85+   \n",
       "610537              COVID-19                 COVID-19        U071       85+   \n",
       "610540              COVID-19                 COVID-19        U071       85+   \n",
       "\n",
       "        COVID-19 Deaths  Number of Mentions Flag  \n",
       "72514              30.0                31.0  NaN  \n",
       "72559              50.0                50.0  NaN  \n",
       "72560              53.0                56.0  NaN  \n",
       "72561              23.0                26.0  NaN  \n",
       "72596              29.0                29.0  NaN  \n",
       "...                 ...                 ...  ...  \n",
       "610527             33.0                33.0  NaN  \n",
       "610535             32.0                32.0  NaN  \n",
       "610536             47.0                47.0  NaN  \n",
       "610537             28.0                28.0  NaN  \n",
       "610540             27.0                27.0  NaN  \n",
       "\n",
       "[43020 rows x 13 columns]"
      ]
     },
     "execution_count": 142,
     "metadata": {},
     "output_type": "execute_result"
    }
   ],
   "source": [
    "# Check for outliers in \"Number of Mentions\"\n",
    "mentions_outliers = find_column_outliers_IQR(df_covid_final_cleaned, 'Number of Mentions')\n",
    "mentions_outliers"
   ]
  },
  {
   "cell_type": "markdown",
   "id": "ce4c9f76-23a6-4c47-9e48-d56de690c68a",
   "metadata": {},
   "source": [
    "Both Covid deaths and number of mentions have a large amount of outliers, but this is most likely due to the large number of zero value records in the dataframe. The values for both columns appear reasonable and will be kept in the data."
   ]
  },
  {
   "cell_type": "markdown",
   "id": "5f8e3078-fe52-4118-804e-743745d12276",
   "metadata": {},
   "source": [
    "## 10. Final validation of dataframe"
   ]
  },
  {
   "cell_type": "code",
   "execution_count": 146,
   "id": "fc25644c-02ec-4735-983e-71a7e06fe01c",
   "metadata": {},
   "outputs": [
    {
     "name": "stdout",
     "output_type": "stream",
     "text": [
      "      Data As Of Start Date   End Date    Year  Month    State  \\\n",
      "72450 2023-09-24 2020-01-01 2020-01-31  2020.0    1.0  Alabama   \n",
      "72451 2023-09-24 2020-02-01 2020-02-29  2020.0    2.0  Alabama   \n",
      "72452 2023-09-24 2020-03-01 2020-03-31  2020.0    3.0  Alabama   \n",
      "72453 2023-09-24 2020-04-01 2020-04-30  2020.0    4.0  Alabama   \n",
      "72454 2023-09-24 2020-05-01 2020-05-31  2020.0    5.0  Alabama   \n",
      "\n",
      "            Condition Group                Condition ICD10_codes Age Group  \\\n",
      "72450  Respiratory diseases  Influenza and pneumonia     J09-J18      0-24   \n",
      "72451  Respiratory diseases  Influenza and pneumonia     J09-J18      0-24   \n",
      "72452  Respiratory diseases  Influenza and pneumonia     J09-J18      0-24   \n",
      "72453  Respiratory diseases  Influenza and pneumonia     J09-J18      0-24   \n",
      "72454  Respiratory diseases  Influenza and pneumonia     J09-J18      0-24   \n",
      "\n",
      "       COVID-19 Deaths  Number of Mentions Flag  \n",
      "72450              0.0                 0.0  NaN  \n",
      "72451              0.0                 0.0  NaN  \n",
      "72452              0.0                 0.0  NaN  \n",
      "72453              0.0                 0.0  NaN  \n",
      "72454              0.0                 0.0  NaN  \n",
      "<class 'pandas.core.frame.DataFrame'>\n",
      "Index: 430560 entries, 72450 to 610559\n",
      "Data columns (total 13 columns):\n",
      " #   Column              Non-Null Count   Dtype         \n",
      "---  ------              --------------   -----         \n",
      " 0   Data As Of          430560 non-null  datetime64[ns]\n",
      " 1   Start Date          430560 non-null  datetime64[ns]\n",
      " 2   End Date            430560 non-null  datetime64[ns]\n",
      " 3   Year                430560 non-null  float64       \n",
      " 4   Month               430560 non-null  float64       \n",
      " 5   State               430560 non-null  category      \n",
      " 6   Condition Group     430560 non-null  category      \n",
      " 7   Condition           430560 non-null  category      \n",
      " 8   ICD10_codes         430560 non-null  category      \n",
      " 9   Age Group           430560 non-null  category      \n",
      " 10  COVID-19 Deaths     430560 non-null  float64       \n",
      " 11  Number of Mentions  430560 non-null  float64       \n",
      " 12  Flag                150829 non-null  category      \n",
      "dtypes: category(6), datetime64[ns](3), float64(4)\n",
      "memory usage: 44.9 MB\n",
      "None\n"
     ]
    },
    {
     "data": {
      "text/plain": [
       "(430560, 13)"
      ]
     },
     "execution_count": 146,
     "metadata": {},
     "output_type": "execute_result"
    }
   ],
   "source": [
    "# Final check of the df_covid_final_cleaned dataframe\n",
    "print(df_covid_final_cleaned.head())\n",
    "print(df_covid_final_cleaned.info())\n",
    "df_covid_final_cleaned.shape"
   ]
  },
  {
   "cell_type": "code",
   "execution_count": 148,
   "id": "4f374c1b-490a-47f5-ad6f-cc581569c813",
   "metadata": {},
   "outputs": [
    {
     "data": {
      "text/html": [
       "<div>\n",
       "<style scoped>\n",
       "    .dataframe tbody tr th:only-of-type {\n",
       "        vertical-align: middle;\n",
       "    }\n",
       "\n",
       "    .dataframe tbody tr th {\n",
       "        vertical-align: top;\n",
       "    }\n",
       "\n",
       "    .dataframe thead th {\n",
       "        text-align: right;\n",
       "    }\n",
       "</style>\n",
       "<table border=\"1\" class=\"dataframe\">\n",
       "  <thead>\n",
       "    <tr style=\"text-align: right;\">\n",
       "      <th></th>\n",
       "      <th>Data As Of</th>\n",
       "      <th>Start Date</th>\n",
       "      <th>End Date</th>\n",
       "      <th>Year</th>\n",
       "      <th>Month</th>\n",
       "      <th>COVID-19 Deaths</th>\n",
       "      <th>Number of Mentions</th>\n",
       "    </tr>\n",
       "  </thead>\n",
       "  <tbody>\n",
       "    <tr>\n",
       "      <th>count</th>\n",
       "      <td>430560</td>\n",
       "      <td>430560</td>\n",
       "      <td>430560</td>\n",
       "      <td>430560.000000</td>\n",
       "      <td>430560.000000</td>\n",
       "      <td>430560.000000</td>\n",
       "      <td>430560.000000</td>\n",
       "    </tr>\n",
       "    <tr>\n",
       "      <th>mean</th>\n",
       "      <td>2023-09-24 00:00:00</td>\n",
       "      <td>2021-10-31 07:28:00.000001024</td>\n",
       "      <td>2021-11-29 13:52:00</td>\n",
       "      <td>2021.400000</td>\n",
       "      <td>6.200000</td>\n",
       "      <td>10.914709</td>\n",
       "      <td>11.784485</td>\n",
       "    </tr>\n",
       "    <tr>\n",
       "      <th>min</th>\n",
       "      <td>2023-09-24 00:00:00</td>\n",
       "      <td>2020-01-01 00:00:00</td>\n",
       "      <td>2020-01-31 00:00:00</td>\n",
       "      <td>2020.000000</td>\n",
       "      <td>1.000000</td>\n",
       "      <td>0.000000</td>\n",
       "      <td>0.000000</td>\n",
       "    </tr>\n",
       "    <tr>\n",
       "      <th>25%</th>\n",
       "      <td>2023-09-24 00:00:00</td>\n",
       "      <td>2020-12-01 00:00:00</td>\n",
       "      <td>2020-12-31 00:00:00</td>\n",
       "      <td>2020.000000</td>\n",
       "      <td>3.000000</td>\n",
       "      <td>0.000000</td>\n",
       "      <td>0.000000</td>\n",
       "    </tr>\n",
       "    <tr>\n",
       "      <th>50%</th>\n",
       "      <td>2023-09-24 00:00:00</td>\n",
       "      <td>2021-11-01 00:00:00</td>\n",
       "      <td>2021-11-30 00:00:00</td>\n",
       "      <td>2021.000000</td>\n",
       "      <td>6.000000</td>\n",
       "      <td>1.000000</td>\n",
       "      <td>1.000000</td>\n",
       "    </tr>\n",
       "    <tr>\n",
       "      <th>75%</th>\n",
       "      <td>2023-09-24 00:00:00</td>\n",
       "      <td>2022-10-01 00:00:00</td>\n",
       "      <td>2022-10-31 00:00:00</td>\n",
       "      <td>2022.000000</td>\n",
       "      <td>9.000000</td>\n",
       "      <td>7.000000</td>\n",
       "      <td>8.000000</td>\n",
       "    </tr>\n",
       "    <tr>\n",
       "      <th>max</th>\n",
       "      <td>2023-09-24 00:00:00</td>\n",
       "      <td>2023-09-01 00:00:00</td>\n",
       "      <td>2023-09-23 00:00:00</td>\n",
       "      <td>2023.000000</td>\n",
       "      <td>12.000000</td>\n",
       "      <td>5094.000000</td>\n",
       "      <td>5094.000000</td>\n",
       "    </tr>\n",
       "    <tr>\n",
       "      <th>std</th>\n",
       "      <td>NaN</td>\n",
       "      <td>NaN</td>\n",
       "      <td>NaN</td>\n",
       "      <td>1.083206</td>\n",
       "      <td>3.350626</td>\n",
       "      <td>53.958118</td>\n",
       "      <td>57.090120</td>\n",
       "    </tr>\n",
       "  </tbody>\n",
       "</table>\n",
       "</div>"
      ],
      "text/plain": [
       "                Data As Of                     Start Date  \\\n",
       "count               430560                         430560   \n",
       "mean   2023-09-24 00:00:00  2021-10-31 07:28:00.000001024   \n",
       "min    2023-09-24 00:00:00            2020-01-01 00:00:00   \n",
       "25%    2023-09-24 00:00:00            2020-12-01 00:00:00   \n",
       "50%    2023-09-24 00:00:00            2021-11-01 00:00:00   \n",
       "75%    2023-09-24 00:00:00            2022-10-01 00:00:00   \n",
       "max    2023-09-24 00:00:00            2023-09-01 00:00:00   \n",
       "std                    NaN                            NaN   \n",
       "\n",
       "                  End Date           Year          Month  COVID-19 Deaths  \\\n",
       "count               430560  430560.000000  430560.000000    430560.000000   \n",
       "mean   2021-11-29 13:52:00    2021.400000       6.200000        10.914709   \n",
       "min    2020-01-31 00:00:00    2020.000000       1.000000         0.000000   \n",
       "25%    2020-12-31 00:00:00    2020.000000       3.000000         0.000000   \n",
       "50%    2021-11-30 00:00:00    2021.000000       6.000000         1.000000   \n",
       "75%    2022-10-31 00:00:00    2022.000000       9.000000         7.000000   \n",
       "max    2023-09-23 00:00:00    2023.000000      12.000000      5094.000000   \n",
       "std                    NaN       1.083206       3.350626        53.958118   \n",
       "\n",
       "       Number of Mentions  \n",
       "count       430560.000000  \n",
       "mean            11.784485  \n",
       "min              0.000000  \n",
       "25%              0.000000  \n",
       "50%              1.000000  \n",
       "75%              8.000000  \n",
       "max           5094.000000  \n",
       "std             57.090120  "
      ]
     },
     "execution_count": 148,
     "metadata": {},
     "output_type": "execute_result"
    }
   ],
   "source": [
    "# Final check of the statistics of the dataframe\n",
    "df_covid_final_cleaned.describe()"
   ]
  },
  {
   "cell_type": "code",
   "execution_count": 150,
   "id": "173e553b-2ee0-41da-8db8-cbbf1487b4f4",
   "metadata": {},
   "outputs": [
    {
     "name": "stdout",
     "output_type": "stream",
     "text": [
      "State\n",
      "Alabama                 8280\n",
      "Montana                 8280\n",
      "Nevada                  8280\n",
      "New Hampshire           8280\n",
      "New Jersey              8280\n",
      "New Mexico              8280\n",
      "New York                8280\n",
      "New York City           8280\n",
      "North Carolina          8280\n",
      "North Dakota            8280\n",
      "Ohio                    8280\n",
      "Oklahoma                8280\n",
      "Oregon                  8280\n",
      "Pennsylvania            8280\n",
      "Rhode Island            8280\n",
      "South Carolina          8280\n",
      "South Dakota            8280\n",
      "Tennessee               8280\n",
      "Texas                   8280\n",
      "Utah                    8280\n",
      "Vermont                 8280\n",
      "Virginia                8280\n",
      "Washington              8280\n",
      "West Virginia           8280\n",
      "Wisconsin               8280\n",
      "Alaska                  8280\n",
      "Nebraska                8280\n",
      "Missouri                8280\n",
      "Mississippi             8280\n",
      "Arizona                 8280\n",
      "Arkansas                8280\n",
      "California              8280\n",
      "Colorado                8280\n",
      "Connecticut             8280\n",
      "Delaware                8280\n",
      "District of Columbia    8280\n",
      "Florida                 8280\n",
      "Georgia                 8280\n",
      "Hawaii                  8280\n",
      "Idaho                   8280\n",
      "Wyoming                 8280\n",
      "Illinois                8280\n",
      "Indiana                 8280\n",
      "Iowa                    8280\n",
      "Kansas                  8280\n",
      "Kentucky                8280\n",
      "Louisiana               8280\n",
      "Maine                   8280\n",
      "Maryland                8280\n",
      "Massachusetts           8280\n",
      "Michigan                8280\n",
      "Minnesota               8280\n",
      "United States              0\n",
      "Puerto Rico                0\n",
      "Name: count, dtype: int64\n"
     ]
    }
   ],
   "source": [
    "# Final check of the counts of unique values\n",
    "print(df_covid_final_cleaned['State'].value_counts(dropna=False))"
   ]
  },
  {
   "cell_type": "code",
   "execution_count": 154,
   "id": "30015fd4-66e7-4612-97d0-7d3022014904",
   "metadata": {},
   "outputs": [
    {
     "name": "stdout",
     "output_type": "stream",
     "text": [
      "Condition Group\n",
      "Circulatory diseases                                                         131040\n",
      "Respiratory diseases                                                         112320\n",
      "All other conditions and causes (residual)                                    18720\n",
      "Alzheimer disease                                                             18720\n",
      "COVID-19                                                                      18720\n",
      "Diabetes                                                                      18720\n",
      "Intentional and unintentional injury, poisoning, and other adverse events     18720\n",
      "Malignant neoplasms                                                           18720\n",
      "Obesity                                                                       18720\n",
      "Renal failure                                                                 18720\n",
      "Sepsis                                                                        18720\n",
      "Vascular and unspecified dementia                                             18720\n",
      "Name: count, dtype: int64\n"
     ]
    }
   ],
   "source": [
    "print(df_covid_final_cleaned['Condition Group'].value_counts(dropna=False))"
   ]
  },
  {
   "cell_type": "code",
   "execution_count": 158,
   "id": "147d001c-7807-4b36-bcbf-07ac0ddfcb13",
   "metadata": {},
   "outputs": [
    {
     "name": "stdout",
     "output_type": "stream",
     "text": [
      "Condition\n",
      "Adult respiratory distress syndrome                                          18720\n",
      "Intentional and unintentional injury, poisoning, and other adverse events    18720\n",
      "Sepsis                                                                       18720\n",
      "Respiratory failure                                                          18720\n",
      "Respiratory arrest                                                           18720\n",
      "Renal failure                                                                18720\n",
      "Other diseases of the respiratory system                                     18720\n",
      "Other diseases of the circulatory system                                     18720\n",
      "Obesity                                                                      18720\n",
      "Malignant neoplasms                                                          18720\n",
      "Ischemic heart disease                                                       18720\n",
      "Influenza and pneumonia                                                      18720\n",
      "All other conditions and causes (residual)                                   18720\n",
      "Hypertensive diseases                                                        18720\n",
      "Heart failure                                                                18720\n",
      "Diabetes                                                                     18720\n",
      "Chronic lower respiratory diseases                                           18720\n",
      "Cerebrovascular diseases                                                     18720\n",
      "Cardiac arrhythmia                                                           18720\n",
      "Cardiac arrest                                                               18720\n",
      "COVID-19                                                                     18720\n",
      "Alzheimer disease                                                            18720\n",
      "Vascular and unspecified dementia                                            18720\n",
      "Name: count, dtype: int64\n"
     ]
    }
   ],
   "source": [
    "print(df_covid_final_cleaned['Condition'].value_counts(dropna=False))"
   ]
  },
  {
   "cell_type": "code",
   "execution_count": 160,
   "id": "57842c35-cfbf-4f50-9522-5c7fe3197150",
   "metadata": {},
   "outputs": [
    {
     "name": "stdout",
     "output_type": "stream",
     "text": [
      "ICD10_codes\n",
      "A00-A39, A42-B99, D00-E07, E15-E64, E70-E90, F00, F02, F04-G26, G31-H95, K00-K93, L00-M99, N00-N16, N20-N98, O00-O99, P00-P96, Q00-Q99, R00-R08, R09.0, R09.1, R09.3, R09.8, R10-R99    18720\n",
      "I50                                                                                                                                                                                     18720\n",
      "S00-T98, V01-X59, X60-X84, X85-Y09, Y10-Y36, Y40-Y89, U01-U03                                                                                                                           18720\n",
      "R09.2                                                                                                                                                                                   18720\n",
      "N17-N19                                                                                                                                                                                 18720\n",
      "J96                                                                                                                                                                                     18720\n",
      "J80                                                                                                                                                                                     18720\n",
      "J40-J47                                                                                                                                                                                 18720\n",
      "J09-J18                                                                                                                                                                                 18720\n",
      "J00-J06, J20-J39, J60-J70, J81-J86, J90-J95, J97-J99, U04                                                                                                                               18720\n",
      "I60-I69                                                                                                                                                                                 18720\n",
      "I46                                                                                                                                                                                     18720\n",
      "A40-A41                                                                                                                                                                                 18720\n",
      "I44, I45, I47-I49                                                                                                                                                                       18720\n",
      "I20-I25                                                                                                                                                                                 18720\n",
      "I10-I15                                                                                                                                                                                 18720\n",
      "I00-I09, I26-I43, I51, I52, I70-I99                                                                                                                                                     18720\n",
      "G30                                                                                                                                                                                     18720\n",
      "F01, F03                                                                                                                                                                                18720\n",
      "E65-E68                                                                                                                                                                                 18720\n",
      "E10-E14                                                                                                                                                                                 18720\n",
      "C00-C97                                                                                                                                                                                 18720\n",
      "U071                                                                                                                                                                                    18720\n",
      "Name: count, dtype: int64\n"
     ]
    }
   ],
   "source": [
    "print(df_covid_final_cleaned['ICD10_codes'].value_counts(dropna=False))"
   ]
  },
  {
   "cell_type": "code",
   "execution_count": 162,
   "id": "35d573ef-2533-4f97-ad33-4bf0f8bfa816",
   "metadata": {},
   "outputs": [
    {
     "name": "stdout",
     "output_type": "stream",
     "text": [
      "Age Group\n",
      "0-24          53820\n",
      "25-34         53820\n",
      "35-44         53820\n",
      "45-54         53820\n",
      "55-64         53820\n",
      "65-74         53820\n",
      "75-84         53820\n",
      "85+           53820\n",
      "All Ages          0\n",
      "Not stated        0\n",
      "Name: count, dtype: int64\n"
     ]
    }
   ],
   "source": [
    "print(df_covid_final_cleaned['Age Group'].value_counts(dropna=False))"
   ]
  },
  {
   "cell_type": "code",
   "execution_count": 164,
   "id": "1ae96554-0343-43e4-bcb9-30d13077d224",
   "metadata": {},
   "outputs": [
    {
     "name": "stdout",
     "output_type": "stream",
     "text": [
      "Flag\n",
      "NaN                                                                                                                           279731\n",
      "One or more data cells have counts between 1-9 and have been suppressed in accordance with NCHS confidentiality standards.    150829\n",
      "Name: count, dtype: int64\n"
     ]
    }
   ],
   "source": [
    "print(df_covid_final_cleaned['Flag'].value_counts(dropna=False))"
   ]
  },
  {
   "cell_type": "code",
   "execution_count": 166,
   "id": "bd020b2d-6e3f-4b49-8efe-69e6de715683",
   "metadata": {},
   "outputs": [],
   "source": [
    "# Export the \"df_covid_final_cleaned\" dataframe to CSV\n",
    "df_covid_final_cleaned.to_csv(os.path.join(path, '02 Data', 'Prepared Data', 'Cleaned_Conditions_Contributing_to_COVID-19_Deaths.csv'), index=False)"
   ]
  },
  {
   "cell_type": "code",
   "execution_count": null,
   "id": "6d3b73da-00aa-4149-ad61-4bd912bccc0a",
   "metadata": {},
   "outputs": [],
   "source": []
  }
 ],
 "metadata": {
  "kernelspec": {
   "display_name": "Python 3 (ipykernel)",
   "language": "python",
   "name": "python3"
  },
  "language_info": {
   "codemirror_mode": {
    "name": "ipython",
    "version": 3
   },
   "file_extension": ".py",
   "mimetype": "text/x-python",
   "name": "python",
   "nbconvert_exporter": "python",
   "pygments_lexer": "ipython3",
   "version": "3.12.4"
  }
 },
 "nbformat": 4,
 "nbformat_minor": 5
}
